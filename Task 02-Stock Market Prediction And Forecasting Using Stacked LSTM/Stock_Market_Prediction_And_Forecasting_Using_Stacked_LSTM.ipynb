{
  "nbformat": 4,
  "nbformat_minor": 0,
  "metadata": {
    "colab": {
      "name": "Stock Market Prediction And Forecasting Using Stacked LSTM.ipynb",
      "provenance": [],
      "collapsed_sections": []
    },
    "kernelspec": {
      "name": "python3",
      "display_name": "Python 3"
    },
    "language_info": {
      "name": "python"
    }
  },
  "cells": [
    {
      "cell_type": "markdown",
      "source": [
        "#Data set:  \n",
        "//raw.githubusercontent.com/mwitiderrick/stockprice/master/NSE-TATAGLOBAL.csv\n"
      ],
      "metadata": {
        "id": "e2YvZiUa6ksL"
      }
    },
    {
      "cell_type": "code",
      "execution_count": null,
      "metadata": {
        "id": "Ind38rAV25tN"
      },
      "outputs": [],
      "source": [
        "#Import necessary Libraries\n",
        "import pandas as pd\n",
        "import numpy as np\n",
        "import math\n",
        "import matplotlib.pyplot as plt\n",
        "from sklearn.preprocessing import MinMaxScaler\n",
        "from sklearn.metrics import mean_squared_error\n",
        "import tensorflow as tf\n",
        "from tensorflow.python.keras.models import Sequential\n",
        "from tensorflow.python.keras.layers import Dense\n",
        "from tensorflow.python.keras.layers import LSTM\n",
        "%matplotlib inline"
      ]
    },
    {
      "cell_type": "code",
      "source": [
        "#checking my tensorflow version\n",
        "tf.__version__"
      ],
      "metadata": {
        "colab": {
          "base_uri": "https://localhost:8080/",
          "height": 36
        },
        "id": "P1IJisza3F24",
        "outputId": "27459542-a530-4f8a-9fb6-b6fbbd9beb78"
      },
      "execution_count": null,
      "outputs": [
        {
          "output_type": "execute_result",
          "data": {
            "application/vnd.google.colaboratory.intrinsic+json": {
              "type": "string"
            },
            "text/plain": [
              "'2.8.0'"
            ]
          },
          "metadata": {},
          "execution_count": 48
        }
      ]
    },
    {
      "cell_type": "code",
      "source": [
        "#Import the data and remove rows containing NAN values\n",
        "df = pd.read_csv('https://raw.githubusercontent.com/mwitiderrick/stockprice/master/NSE-TATAGLOBAL.csv')\n",
        "df=df. iloc[::-1]\n",
        "df.head()\n",
        "\n"
      ],
      "metadata": {
        "colab": {
          "base_uri": "https://localhost:8080/",
          "height": 206
        },
        "id": "N8z3srx73IOi",
        "outputId": "d5fa4e1a-d5a0-40a0-8164-c3cca28a231e"
      },
      "execution_count": null,
      "outputs": [
        {
          "output_type": "execute_result",
          "data": {
            "text/html": [
              "\n",
              "  <div id=\"df-4ace0300-61c6-4fe4-8ba6-f1f80d32c62d\">\n",
              "    <div class=\"colab-df-container\">\n",
              "      <div>\n",
              "<style scoped>\n",
              "    .dataframe tbody tr th:only-of-type {\n",
              "        vertical-align: middle;\n",
              "    }\n",
              "\n",
              "    .dataframe tbody tr th {\n",
              "        vertical-align: top;\n",
              "    }\n",
              "\n",
              "    .dataframe thead th {\n",
              "        text-align: right;\n",
              "    }\n",
              "</style>\n",
              "<table border=\"1\" class=\"dataframe\">\n",
              "  <thead>\n",
              "    <tr style=\"text-align: right;\">\n",
              "      <th></th>\n",
              "      <th>Date</th>\n",
              "      <th>Open</th>\n",
              "      <th>High</th>\n",
              "      <th>Low</th>\n",
              "      <th>Last</th>\n",
              "      <th>Close</th>\n",
              "      <th>Total Trade Quantity</th>\n",
              "      <th>Turnover (Lacs)</th>\n",
              "    </tr>\n",
              "  </thead>\n",
              "  <tbody>\n",
              "    <tr>\n",
              "      <th>2034</th>\n",
              "      <td>2010-07-21</td>\n",
              "      <td>122.1</td>\n",
              "      <td>123.00</td>\n",
              "      <td>121.05</td>\n",
              "      <td>121.10</td>\n",
              "      <td>121.55</td>\n",
              "      <td>658666</td>\n",
              "      <td>803.56</td>\n",
              "    </tr>\n",
              "    <tr>\n",
              "      <th>2033</th>\n",
              "      <td>2010-07-22</td>\n",
              "      <td>120.3</td>\n",
              "      <td>122.00</td>\n",
              "      <td>120.25</td>\n",
              "      <td>120.75</td>\n",
              "      <td>120.90</td>\n",
              "      <td>293312</td>\n",
              "      <td>355.17</td>\n",
              "    </tr>\n",
              "    <tr>\n",
              "      <th>2032</th>\n",
              "      <td>2010-07-23</td>\n",
              "      <td>121.8</td>\n",
              "      <td>121.95</td>\n",
              "      <td>120.25</td>\n",
              "      <td>120.35</td>\n",
              "      <td>120.65</td>\n",
              "      <td>281312</td>\n",
              "      <td>340.31</td>\n",
              "    </tr>\n",
              "    <tr>\n",
              "      <th>2031</th>\n",
              "      <td>2010-07-26</td>\n",
              "      <td>120.1</td>\n",
              "      <td>121.00</td>\n",
              "      <td>117.10</td>\n",
              "      <td>117.10</td>\n",
              "      <td>117.60</td>\n",
              "      <td>658440</td>\n",
              "      <td>780.01</td>\n",
              "    </tr>\n",
              "    <tr>\n",
              "      <th>2030</th>\n",
              "      <td>2010-07-27</td>\n",
              "      <td>117.6</td>\n",
              "      <td>119.50</td>\n",
              "      <td>112.00</td>\n",
              "      <td>118.80</td>\n",
              "      <td>118.65</td>\n",
              "      <td>586100</td>\n",
              "      <td>694.98</td>\n",
              "    </tr>\n",
              "  </tbody>\n",
              "</table>\n",
              "</div>\n",
              "      <button class=\"colab-df-convert\" onclick=\"convertToInteractive('df-4ace0300-61c6-4fe4-8ba6-f1f80d32c62d')\"\n",
              "              title=\"Convert this dataframe to an interactive table.\"\n",
              "              style=\"display:none;\">\n",
              "        \n",
              "  <svg xmlns=\"http://www.w3.org/2000/svg\" height=\"24px\"viewBox=\"0 0 24 24\"\n",
              "       width=\"24px\">\n",
              "    <path d=\"M0 0h24v24H0V0z\" fill=\"none\"/>\n",
              "    <path d=\"M18.56 5.44l.94 2.06.94-2.06 2.06-.94-2.06-.94-.94-2.06-.94 2.06-2.06.94zm-11 1L8.5 8.5l.94-2.06 2.06-.94-2.06-.94L8.5 2.5l-.94 2.06-2.06.94zm10 10l.94 2.06.94-2.06 2.06-.94-2.06-.94-.94-2.06-.94 2.06-2.06.94z\"/><path d=\"M17.41 7.96l-1.37-1.37c-.4-.4-.92-.59-1.43-.59-.52 0-1.04.2-1.43.59L10.3 9.45l-7.72 7.72c-.78.78-.78 2.05 0 2.83L4 21.41c.39.39.9.59 1.41.59.51 0 1.02-.2 1.41-.59l7.78-7.78 2.81-2.81c.8-.78.8-2.07 0-2.86zM5.41 20L4 18.59l7.72-7.72 1.47 1.35L5.41 20z\"/>\n",
              "  </svg>\n",
              "      </button>\n",
              "      \n",
              "  <style>\n",
              "    .colab-df-container {\n",
              "      display:flex;\n",
              "      flex-wrap:wrap;\n",
              "      gap: 12px;\n",
              "    }\n",
              "\n",
              "    .colab-df-convert {\n",
              "      background-color: #E8F0FE;\n",
              "      border: none;\n",
              "      border-radius: 50%;\n",
              "      cursor: pointer;\n",
              "      display: none;\n",
              "      fill: #1967D2;\n",
              "      height: 32px;\n",
              "      padding: 0 0 0 0;\n",
              "      width: 32px;\n",
              "    }\n",
              "\n",
              "    .colab-df-convert:hover {\n",
              "      background-color: #E2EBFA;\n",
              "      box-shadow: 0px 1px 2px rgba(60, 64, 67, 0.3), 0px 1px 3px 1px rgba(60, 64, 67, 0.15);\n",
              "      fill: #174EA6;\n",
              "    }\n",
              "\n",
              "    [theme=dark] .colab-df-convert {\n",
              "      background-color: #3B4455;\n",
              "      fill: #D2E3FC;\n",
              "    }\n",
              "\n",
              "    [theme=dark] .colab-df-convert:hover {\n",
              "      background-color: #434B5C;\n",
              "      box-shadow: 0px 1px 3px 1px rgba(0, 0, 0, 0.15);\n",
              "      filter: drop-shadow(0px 1px 2px rgba(0, 0, 0, 0.3));\n",
              "      fill: #FFFFFF;\n",
              "    }\n",
              "  </style>\n",
              "\n",
              "      <script>\n",
              "        const buttonEl =\n",
              "          document.querySelector('#df-4ace0300-61c6-4fe4-8ba6-f1f80d32c62d button.colab-df-convert');\n",
              "        buttonEl.style.display =\n",
              "          google.colab.kernel.accessAllowed ? 'block' : 'none';\n",
              "\n",
              "        async function convertToInteractive(key) {\n",
              "          const element = document.querySelector('#df-4ace0300-61c6-4fe4-8ba6-f1f80d32c62d');\n",
              "          const dataTable =\n",
              "            await google.colab.kernel.invokeFunction('convertToInteractive',\n",
              "                                                     [key], {});\n",
              "          if (!dataTable) return;\n",
              "\n",
              "          const docLinkHtml = 'Like what you see? Visit the ' +\n",
              "            '<a target=\"_blank\" href=https://colab.research.google.com/notebooks/data_table.ipynb>data table notebook</a>'\n",
              "            + ' to learn more about interactive tables.';\n",
              "          element.innerHTML = '';\n",
              "          dataTable['output_type'] = 'display_data';\n",
              "          await google.colab.output.renderOutput(dataTable, element);\n",
              "          const docLink = document.createElement('div');\n",
              "          docLink.innerHTML = docLinkHtml;\n",
              "          element.appendChild(docLink);\n",
              "        }\n",
              "      </script>\n",
              "    </div>\n",
              "  </div>\n",
              "  "
            ],
            "text/plain": [
              "            Date   Open    High     Low    Last   Close  Total Trade Quantity  \\\n",
              "2034  2010-07-21  122.1  123.00  121.05  121.10  121.55                658666   \n",
              "2033  2010-07-22  120.3  122.00  120.25  120.75  120.90                293312   \n",
              "2032  2010-07-23  121.8  121.95  120.25  120.35  120.65                281312   \n",
              "2031  2010-07-26  120.1  121.00  117.10  117.10  117.60                658440   \n",
              "2030  2010-07-27  117.6  119.50  112.00  118.80  118.65                586100   \n",
              "\n",
              "      Turnover (Lacs)  \n",
              "2034           803.56  \n",
              "2033           355.17  \n",
              "2032           340.31  \n",
              "2031           780.01  \n",
              "2030           694.98  "
            ]
          },
          "metadata": {},
          "execution_count": 49
        }
      ]
    },
    {
      "cell_type": "code",
      "source": [
        "df.tail()"
      ],
      "metadata": {
        "colab": {
          "base_uri": "https://localhost:8080/",
          "height": 206
        },
        "id": "wfYbFiJz3MBf",
        "outputId": "a5366c11-0049-4f61-a393-8746acfc56bf"
      },
      "execution_count": null,
      "outputs": [
        {
          "output_type": "execute_result",
          "data": {
            "text/html": [
              "\n",
              "  <div id=\"df-81d7d555-b6ec-4830-b944-76cce6672c58\">\n",
              "    <div class=\"colab-df-container\">\n",
              "      <div>\n",
              "<style scoped>\n",
              "    .dataframe tbody tr th:only-of-type {\n",
              "        vertical-align: middle;\n",
              "    }\n",
              "\n",
              "    .dataframe tbody tr th {\n",
              "        vertical-align: top;\n",
              "    }\n",
              "\n",
              "    .dataframe thead th {\n",
              "        text-align: right;\n",
              "    }\n",
              "</style>\n",
              "<table border=\"1\" class=\"dataframe\">\n",
              "  <thead>\n",
              "    <tr style=\"text-align: right;\">\n",
              "      <th></th>\n",
              "      <th>Date</th>\n",
              "      <th>Open</th>\n",
              "      <th>High</th>\n",
              "      <th>Low</th>\n",
              "      <th>Last</th>\n",
              "      <th>Close</th>\n",
              "      <th>Total Trade Quantity</th>\n",
              "      <th>Turnover (Lacs)</th>\n",
              "    </tr>\n",
              "  </thead>\n",
              "  <tbody>\n",
              "    <tr>\n",
              "      <th>4</th>\n",
              "      <td>2018-09-24</td>\n",
              "      <td>233.55</td>\n",
              "      <td>239.20</td>\n",
              "      <td>230.75</td>\n",
              "      <td>234.00</td>\n",
              "      <td>233.30</td>\n",
              "      <td>3423509</td>\n",
              "      <td>7999.55</td>\n",
              "    </tr>\n",
              "    <tr>\n",
              "      <th>3</th>\n",
              "      <td>2018-09-25</td>\n",
              "      <td>233.30</td>\n",
              "      <td>236.75</td>\n",
              "      <td>232.00</td>\n",
              "      <td>236.25</td>\n",
              "      <td>236.10</td>\n",
              "      <td>2349368</td>\n",
              "      <td>5503.90</td>\n",
              "    </tr>\n",
              "    <tr>\n",
              "      <th>2</th>\n",
              "      <td>2018-09-26</td>\n",
              "      <td>240.00</td>\n",
              "      <td>240.00</td>\n",
              "      <td>232.50</td>\n",
              "      <td>235.00</td>\n",
              "      <td>234.25</td>\n",
              "      <td>2240909</td>\n",
              "      <td>5248.60</td>\n",
              "    </tr>\n",
              "    <tr>\n",
              "      <th>1</th>\n",
              "      <td>2018-09-27</td>\n",
              "      <td>234.55</td>\n",
              "      <td>236.80</td>\n",
              "      <td>231.10</td>\n",
              "      <td>233.80</td>\n",
              "      <td>233.25</td>\n",
              "      <td>5082859</td>\n",
              "      <td>11859.95</td>\n",
              "    </tr>\n",
              "    <tr>\n",
              "      <th>0</th>\n",
              "      <td>2018-09-28</td>\n",
              "      <td>234.05</td>\n",
              "      <td>235.95</td>\n",
              "      <td>230.20</td>\n",
              "      <td>233.50</td>\n",
              "      <td>233.75</td>\n",
              "      <td>3069914</td>\n",
              "      <td>7162.35</td>\n",
              "    </tr>\n",
              "  </tbody>\n",
              "</table>\n",
              "</div>\n",
              "      <button class=\"colab-df-convert\" onclick=\"convertToInteractive('df-81d7d555-b6ec-4830-b944-76cce6672c58')\"\n",
              "              title=\"Convert this dataframe to an interactive table.\"\n",
              "              style=\"display:none;\">\n",
              "        \n",
              "  <svg xmlns=\"http://www.w3.org/2000/svg\" height=\"24px\"viewBox=\"0 0 24 24\"\n",
              "       width=\"24px\">\n",
              "    <path d=\"M0 0h24v24H0V0z\" fill=\"none\"/>\n",
              "    <path d=\"M18.56 5.44l.94 2.06.94-2.06 2.06-.94-2.06-.94-.94-2.06-.94 2.06-2.06.94zm-11 1L8.5 8.5l.94-2.06 2.06-.94-2.06-.94L8.5 2.5l-.94 2.06-2.06.94zm10 10l.94 2.06.94-2.06 2.06-.94-2.06-.94-.94-2.06-.94 2.06-2.06.94z\"/><path d=\"M17.41 7.96l-1.37-1.37c-.4-.4-.92-.59-1.43-.59-.52 0-1.04.2-1.43.59L10.3 9.45l-7.72 7.72c-.78.78-.78 2.05 0 2.83L4 21.41c.39.39.9.59 1.41.59.51 0 1.02-.2 1.41-.59l7.78-7.78 2.81-2.81c.8-.78.8-2.07 0-2.86zM5.41 20L4 18.59l7.72-7.72 1.47 1.35L5.41 20z\"/>\n",
              "  </svg>\n",
              "      </button>\n",
              "      \n",
              "  <style>\n",
              "    .colab-df-container {\n",
              "      display:flex;\n",
              "      flex-wrap:wrap;\n",
              "      gap: 12px;\n",
              "    }\n",
              "\n",
              "    .colab-df-convert {\n",
              "      background-color: #E8F0FE;\n",
              "      border: none;\n",
              "      border-radius: 50%;\n",
              "      cursor: pointer;\n",
              "      display: none;\n",
              "      fill: #1967D2;\n",
              "      height: 32px;\n",
              "      padding: 0 0 0 0;\n",
              "      width: 32px;\n",
              "    }\n",
              "\n",
              "    .colab-df-convert:hover {\n",
              "      background-color: #E2EBFA;\n",
              "      box-shadow: 0px 1px 2px rgba(60, 64, 67, 0.3), 0px 1px 3px 1px rgba(60, 64, 67, 0.15);\n",
              "      fill: #174EA6;\n",
              "    }\n",
              "\n",
              "    [theme=dark] .colab-df-convert {\n",
              "      background-color: #3B4455;\n",
              "      fill: #D2E3FC;\n",
              "    }\n",
              "\n",
              "    [theme=dark] .colab-df-convert:hover {\n",
              "      background-color: #434B5C;\n",
              "      box-shadow: 0px 1px 3px 1px rgba(0, 0, 0, 0.15);\n",
              "      filter: drop-shadow(0px 1px 2px rgba(0, 0, 0, 0.3));\n",
              "      fill: #FFFFFF;\n",
              "    }\n",
              "  </style>\n",
              "\n",
              "      <script>\n",
              "        const buttonEl =\n",
              "          document.querySelector('#df-81d7d555-b6ec-4830-b944-76cce6672c58 button.colab-df-convert');\n",
              "        buttonEl.style.display =\n",
              "          google.colab.kernel.accessAllowed ? 'block' : 'none';\n",
              "\n",
              "        async function convertToInteractive(key) {\n",
              "          const element = document.querySelector('#df-81d7d555-b6ec-4830-b944-76cce6672c58');\n",
              "          const dataTable =\n",
              "            await google.colab.kernel.invokeFunction('convertToInteractive',\n",
              "                                                     [key], {});\n",
              "          if (!dataTable) return;\n",
              "\n",
              "          const docLinkHtml = 'Like what you see? Visit the ' +\n",
              "            '<a target=\"_blank\" href=https://colab.research.google.com/notebooks/data_table.ipynb>data table notebook</a>'\n",
              "            + ' to learn more about interactive tables.';\n",
              "          element.innerHTML = '';\n",
              "          dataTable['output_type'] = 'display_data';\n",
              "          await google.colab.output.renderOutput(dataTable, element);\n",
              "          const docLink = document.createElement('div');\n",
              "          docLink.innerHTML = docLinkHtml;\n",
              "          element.appendChild(docLink);\n",
              "        }\n",
              "      </script>\n",
              "    </div>\n",
              "  </div>\n",
              "  "
            ],
            "text/plain": [
              "         Date    Open    High     Low    Last   Close  Total Trade Quantity  \\\n",
              "4  2018-09-24  233.55  239.20  230.75  234.00  233.30               3423509   \n",
              "3  2018-09-25  233.30  236.75  232.00  236.25  236.10               2349368   \n",
              "2  2018-09-26  240.00  240.00  232.50  235.00  234.25               2240909   \n",
              "1  2018-09-27  234.55  236.80  231.10  233.80  233.25               5082859   \n",
              "0  2018-09-28  234.05  235.95  230.20  233.50  233.75               3069914   \n",
              "\n",
              "   Turnover (Lacs)  \n",
              "4          7999.55  \n",
              "3          5503.90  \n",
              "2          5248.60  \n",
              "1         11859.95  \n",
              "0          7162.35  "
            ]
          },
          "metadata": {},
          "execution_count": 50
        }
      ]
    },
    {
      "cell_type": "code",
      "source": [
        "#Data Preprocessing\n",
        "df.isnull().sum()"
      ],
      "metadata": {
        "colab": {
          "base_uri": "https://localhost:8080/"
        },
        "id": "t1vfufWn3OJ7",
        "outputId": "30d72724-1a02-4295-a40f-22c2df12f6c6"
      },
      "execution_count": null,
      "outputs": [
        {
          "output_type": "execute_result",
          "data": {
            "text/plain": [
              "Date                    0\n",
              "Open                    0\n",
              "High                    0\n",
              "Low                     0\n",
              "Last                    0\n",
              "Close                   0\n",
              "Total Trade Quantity    0\n",
              "Turnover (Lacs)         0\n",
              "dtype: int64"
            ]
          },
          "metadata": {},
          "execution_count": 51
        }
      ]
    },
    {
      "cell_type": "code",
      "source": [
        "df.shape"
      ],
      "metadata": {
        "colab": {
          "base_uri": "https://localhost:8080/"
        },
        "id": "rAmInUts3SMN",
        "outputId": "c4f3136c-2fcd-4012-c18e-15993aaf40eb"
      },
      "execution_count": null,
      "outputs": [
        {
          "output_type": "execute_result",
          "data": {
            "text/plain": [
              "(2035, 8)"
            ]
          },
          "metadata": {},
          "execution_count": 52
        }
      ]
    },
    {
      "cell_type": "code",
      "source": [
        "df_high=df.reset_index()['High']\n",
        "plt.plot(df_high)"
      ],
      "metadata": {
        "colab": {
          "base_uri": "https://localhost:8080/",
          "height": 284
        },
        "id": "ouIujTT63Uvw",
        "outputId": "ea9cdeac-893f-4a52-f185-cfc52c2553eb"
      },
      "execution_count": null,
      "outputs": [
        {
          "output_type": "execute_result",
          "data": {
            "text/plain": [
              "[<matplotlib.lines.Line2D at 0x7f765029cc90>]"
            ]
          },
          "metadata": {},
          "execution_count": 53
        },
        {
          "output_type": "display_data",
          "data": {
            "image/png": "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\n",
            "text/plain": [
              "<Figure size 432x288 with 1 Axes>"
            ]
          },
          "metadata": {
            "needs_background": "light"
          }
        }
      ]
    },
    {
      "cell_type": "code",
      "source": [
        "#Since LSTM are sensitive to the scale of the data, so we apply MinMax Scaler to transform our values between 0 and 1\n",
        "\n",
        "scaler = MinMaxScaler(feature_range = (0,1))\n",
        "df_high = scaler.fit_transform(np.array(df_high).reshape(-1,1))"
      ],
      "metadata": {
        "id": "sbuf080m3ZPK"
      },
      "execution_count": null,
      "outputs": []
    },
    {
      "cell_type": "code",
      "source": [
        "df_high.shape"
      ],
      "metadata": {
        "colab": {
          "base_uri": "https://localhost:8080/"
        },
        "id": "mUbKrCCr3fAv",
        "outputId": "1cd51436-8783-4934-ac8b-c72645c034fa"
      },
      "execution_count": null,
      "outputs": [
        {
          "output_type": "execute_result",
          "data": {
            "text/plain": [
              "(2035, 1)"
            ]
          },
          "metadata": {},
          "execution_count": 55
        }
      ]
    },
    {
      "cell_type": "code",
      "source": [
        "df_high"
      ],
      "metadata": {
        "colab": {
          "base_uri": "https://localhost:8080/"
        },
        "id": "k9bozu8h3izq",
        "outputId": "d7d4e969-002e-486b-adac-a1c8df08433a"
      },
      "execution_count": null,
      "outputs": [
        {
          "output_type": "execute_result",
          "data": {
            "text/plain": [
              "array([[0.16344786],\n",
              "       [0.15938199],\n",
              "       [0.15917869],\n",
              "       ...,\n",
              "       [0.6391543 ],\n",
              "       [0.62614353],\n",
              "       [0.62268754]])"
            ]
          },
          "metadata": {},
          "execution_count": 56
        }
      ]
    },
    {
      "cell_type": "code",
      "source": [
        "#Split the data into train and test split\n",
        "training_size = int(len(df_high) * 0.75)\n",
        "test_size = len(df_high) - training_size\n",
        "train_data, test_data = df_high[0:training_size,:], df_high[training_size:len(df_high),:1]\n"
      ],
      "metadata": {
        "id": "o9_RaM0d3k8J"
      },
      "execution_count": null,
      "outputs": []
    },
    {
      "cell_type": "code",
      "source": [
        "training_size,test_size"
      ],
      "metadata": {
        "colab": {
          "base_uri": "https://localhost:8080/"
        },
        "id": "Vh41X1ae3pd8",
        "outputId": "b29f8a55-bc28-45cf-da2f-36df2aab761b"
      },
      "execution_count": null,
      "outputs": [
        {
          "output_type": "execute_result",
          "data": {
            "text/plain": [
              "(1526, 509)"
            ]
          },
          "metadata": {},
          "execution_count": 58
        }
      ]
    },
    {
      "cell_type": "code",
      "source": [
        "def create_dataset(dataset, time_step = 1):\n",
        "    dataX, dataY = [], []\n",
        "    for i in range(len(dataset) - time_step - 1):\n",
        "        a = dataset[i:(i+time_step), 0]\n",
        "        dataX.append(a)\n",
        "        dataY.append(dataset[i+time_step, 0])\n",
        "    return np.array(dataX), np.array(dataY)\n",
        "\n",
        "    \n",
        "time_step = 100\n",
        "x_train, y_train = create_dataset(train_data, time_step)\n",
        "x_test, y_test = create_dataset(test_data, time_step)"
      ],
      "metadata": {
        "id": "KN5f7QPb3qHI"
      },
      "execution_count": null,
      "outputs": []
    },
    {
      "cell_type": "code",
      "source": [
        "#Reshape the input to be [samples, time steps, features] which is the requirement of LSTM\n",
        "x_train = x_train.reshape(x_train.shape[0], x_train.shape[1], 1)\n",
        "x_test = x_test.reshape(x_test.shape[0], x_test.shape[1], 1)\n",
        "\n",
        "\n",
        "print(x_train.shape), print(y_train.shape)"
      ],
      "metadata": {
        "colab": {
          "base_uri": "https://localhost:8080/"
        },
        "id": "OlEMYsTs3wc4",
        "outputId": "98750fe5-4b67-432a-ffd0-0fdb75e854bd"
      },
      "execution_count": null,
      "outputs": [
        {
          "output_type": "stream",
          "name": "stdout",
          "text": [
            "(1425, 100, 1)\n",
            "(1425,)\n"
          ]
        },
        {
          "output_type": "execute_result",
          "data": {
            "text/plain": [
              "(None, None)"
            ]
          },
          "metadata": {},
          "execution_count": 60
        }
      ]
    },
    {
      "cell_type": "code",
      "source": [
        "print(x_test.shape), print(y_test.shape)"
      ],
      "metadata": {
        "colab": {
          "base_uri": "https://localhost:8080/"
        },
        "id": "qouIyLaI3zun",
        "outputId": "1085669e-d9a7-4fb6-ee54-d8ff6fbad7e9"
      },
      "execution_count": null,
      "outputs": [
        {
          "output_type": "stream",
          "name": "stdout",
          "text": [
            "(408, 100, 1)\n",
            "(408,)\n"
          ]
        },
        {
          "output_type": "execute_result",
          "data": {
            "text/plain": [
              "(None, None)"
            ]
          },
          "metadata": {},
          "execution_count": 61
        }
      ]
    },
    {
      "cell_type": "code",
      "source": [
        "#Create the LSTM Model\n",
        "model = Sequential()\n",
        "model.add(LSTM(50, return_sequences = True, input_shape = (100,1)))\n",
        "model.add(LSTM(50, return_sequences = True))\n",
        "model.add(LSTM(50))\n",
        "model.add(Dense(1))\n",
        "model.compile(loss = 'mean_squared_error', optimizer = 'adam')\n",
        "\n",
        "\n",
        "model.summary()"
      ],
      "metadata": {
        "colab": {
          "base_uri": "https://localhost:8080/"
        },
        "id": "yAGJoN-W31f9",
        "outputId": "1695fda6-dc1c-4704-9ef9-15cf4218eff5"
      },
      "execution_count": null,
      "outputs": [
        {
          "output_type": "stream",
          "name": "stdout",
          "text": [
            "Model: \"sequential_3\"\n",
            "_________________________________________________________________\n",
            "Layer (type)                 Output Shape              Param #   \n",
            "=================================================================\n",
            "lstm_9 (LSTM)                (None, 100, 50)           10400     \n",
            "_________________________________________________________________\n",
            "lstm_10 (LSTM)               (None, 100, 50)           20200     \n",
            "_________________________________________________________________\n",
            "lstm_11 (LSTM)               (None, 50)                20200     \n",
            "_________________________________________________________________\n",
            "dense_3 (Dense)              (None, 1)                 51        \n",
            "=================================================================\n",
            "Total params: 50,851\n",
            "Trainable params: 50,851\n",
            "Non-trainable params: 0\n",
            "_________________________________________________________________\n"
          ]
        }
      ]
    },
    {
      "cell_type": "code",
      "source": [
        "model.fit(x_train, y_train, validation_data = (x_test, y_test), epochs = 100, batch_size = 64, verbose = 1)"
      ],
      "metadata": {
        "colab": {
          "base_uri": "https://localhost:8080/"
        },
        "id": "QaMXmw7H4KTR",
        "outputId": "89850e6e-abb6-41ed-b9f3-e146bc063c23"
      },
      "execution_count": null,
      "outputs": [
        {
          "output_type": "stream",
          "name": "stdout",
          "text": [
            "Epoch 1/100\n",
            "23/23 [==============================] - 33s 531ms/step - loss: 0.0123 - val_loss: 0.0557\n",
            "Epoch 2/100\n",
            "23/23 [==============================] - 14s 604ms/step - loss: 0.0019 - val_loss: 0.0049\n",
            "Epoch 3/100\n",
            "23/23 [==============================] - 15s 651ms/step - loss: 9.3129e-04 - val_loss: 0.0033\n",
            "Epoch 4/100\n",
            "23/23 [==============================] - 18s 776ms/step - loss: 7.9956e-04 - val_loss: 0.0046\n",
            "Epoch 5/100\n",
            "23/23 [==============================] - 14s 594ms/step - loss: 7.9254e-04 - val_loss: 0.0045\n",
            "Epoch 6/100\n",
            "23/23 [==============================] - 13s 567ms/step - loss: 7.7343e-04 - val_loss: 0.0036\n",
            "Epoch 7/100\n",
            "23/23 [==============================] - 12s 498ms/step - loss: 7.0810e-04 - val_loss: 0.0045\n",
            "Epoch 8/100\n",
            "23/23 [==============================] - 8s 353ms/step - loss: 6.8340e-04 - val_loss: 0.0036\n",
            "Epoch 9/100\n",
            "23/23 [==============================] - 14s 616ms/step - loss: 6.4036e-04 - val_loss: 0.0059\n",
            "Epoch 10/100\n",
            "23/23 [==============================] - 14s 611ms/step - loss: 6.4620e-04 - val_loss: 0.0060\n",
            "Epoch 11/100\n",
            "23/23 [==============================] - 12s 525ms/step - loss: 5.9403e-04 - val_loss: 0.0061\n",
            "Epoch 12/100\n",
            "23/23 [==============================] - 17s 758ms/step - loss: 5.6236e-04 - val_loss: 0.0067\n",
            "Epoch 13/100\n",
            "23/23 [==============================] - 18s 771ms/step - loss: 5.6429e-04 - val_loss: 0.0069\n",
            "Epoch 14/100\n",
            "23/23 [==============================] - 15s 637ms/step - loss: 5.5827e-04 - val_loss: 0.0070\n",
            "Epoch 15/100\n",
            "23/23 [==============================] - 16s 678ms/step - loss: 5.2695e-04 - val_loss: 0.0072\n",
            "Epoch 16/100\n",
            "23/23 [==============================] - 15s 649ms/step - loss: 5.0047e-04 - val_loss: 0.0099\n",
            "Epoch 17/100\n",
            "23/23 [==============================] - 14s 606ms/step - loss: 5.0128e-04 - val_loss: 0.0098\n",
            "Epoch 18/100\n",
            "23/23 [==============================] - 8s 351ms/step - loss: 5.4185e-04 - val_loss: 0.0135\n",
            "Epoch 19/100\n",
            "23/23 [==============================] - 8s 349ms/step - loss: 5.0956e-04 - val_loss: 0.0095\n",
            "Epoch 20/100\n",
            "23/23 [==============================] - 8s 348ms/step - loss: 4.6525e-04 - val_loss: 0.0082\n",
            "Epoch 21/100\n",
            "23/23 [==============================] - 8s 344ms/step - loss: 4.7062e-04 - val_loss: 0.0111\n",
            "Epoch 22/100\n",
            "23/23 [==============================] - 8s 348ms/step - loss: 4.1992e-04 - val_loss: 0.0109\n",
            "Epoch 23/100\n",
            "23/23 [==============================] - 8s 346ms/step - loss: 4.1528e-04 - val_loss: 0.0101\n",
            "Epoch 24/100\n",
            "23/23 [==============================] - 9s 387ms/step - loss: 3.9904e-04 - val_loss: 0.0097\n",
            "Epoch 25/100\n",
            "23/23 [==============================] - 8s 347ms/step - loss: 3.9539e-04 - val_loss: 0.0077\n",
            "Epoch 26/100\n",
            "23/23 [==============================] - 8s 348ms/step - loss: 3.8357e-04 - val_loss: 0.0110\n",
            "Epoch 27/100\n",
            "23/23 [==============================] - 8s 351ms/step - loss: 3.6189e-04 - val_loss: 0.0075\n",
            "Epoch 28/100\n",
            "23/23 [==============================] - 8s 354ms/step - loss: 3.4736e-04 - val_loss: 0.0087\n",
            "Epoch 29/100\n",
            "23/23 [==============================] - 8s 347ms/step - loss: 3.4617e-04 - val_loss: 0.0080\n",
            "Epoch 30/100\n",
            "23/23 [==============================] - 8s 347ms/step - loss: 3.1913e-04 - val_loss: 0.0070\n",
            "Epoch 31/100\n",
            "23/23 [==============================] - 8s 348ms/step - loss: 3.0908e-04 - val_loss: 0.0072\n",
            "Epoch 32/100\n",
            "23/23 [==============================] - 8s 349ms/step - loss: 3.0140e-04 - val_loss: 0.0081\n",
            "Epoch 33/100\n",
            "23/23 [==============================] - 8s 348ms/step - loss: 2.8944e-04 - val_loss: 0.0050\n",
            "Epoch 34/100\n",
            "23/23 [==============================] - 8s 347ms/step - loss: 2.7563e-04 - val_loss: 0.0085\n",
            "Epoch 35/100\n",
            "23/23 [==============================] - 8s 352ms/step - loss: 2.8252e-04 - val_loss: 0.0058\n",
            "Epoch 36/100\n",
            "23/23 [==============================] - 8s 351ms/step - loss: 3.0943e-04 - val_loss: 0.0073\n",
            "Epoch 37/100\n",
            "23/23 [==============================] - 8s 349ms/step - loss: 2.6293e-04 - val_loss: 0.0056\n",
            "Epoch 38/100\n",
            "23/23 [==============================] - 8s 348ms/step - loss: 2.4513e-04 - val_loss: 0.0029\n",
            "Epoch 39/100\n",
            "23/23 [==============================] - 8s 351ms/step - loss: 2.3692e-04 - val_loss: 0.0032\n",
            "Epoch 40/100\n",
            "23/23 [==============================] - 8s 350ms/step - loss: 2.1504e-04 - val_loss: 0.0039\n",
            "Epoch 41/100\n",
            "23/23 [==============================] - 8s 347ms/step - loss: 2.1438e-04 - val_loss: 0.0045\n",
            "Epoch 42/100\n",
            "23/23 [==============================] - 8s 348ms/step - loss: 2.0611e-04 - val_loss: 0.0046\n",
            "Epoch 43/100\n",
            "23/23 [==============================] - 8s 350ms/step - loss: 2.0332e-04 - val_loss: 0.0066\n",
            "Epoch 44/100\n",
            "23/23 [==============================] - 10s 452ms/step - loss: 2.0516e-04 - val_loss: 0.0029\n",
            "Epoch 45/100\n",
            "23/23 [==============================] - 14s 592ms/step - loss: 1.9842e-04 - val_loss: 0.0038\n",
            "Epoch 46/100\n",
            "23/23 [==============================] - 8s 349ms/step - loss: 1.9306e-04 - val_loss: 0.0019\n",
            "Epoch 47/100\n",
            "23/23 [==============================] - 8s 348ms/step - loss: 2.3463e-04 - val_loss: 0.0021\n",
            "Epoch 48/100\n",
            "23/23 [==============================] - 8s 346ms/step - loss: 1.7932e-04 - val_loss: 0.0035\n",
            "Epoch 49/100\n",
            "23/23 [==============================] - 8s 348ms/step - loss: 1.6849e-04 - val_loss: 0.0026\n",
            "Epoch 50/100\n",
            "23/23 [==============================] - 8s 347ms/step - loss: 1.6747e-04 - val_loss: 0.0036\n",
            "Epoch 51/100\n",
            "23/23 [==============================] - 8s 346ms/step - loss: 1.7022e-04 - val_loss: 0.0021\n",
            "Epoch 52/100\n",
            "23/23 [==============================] - 8s 346ms/step - loss: 1.9292e-04 - val_loss: 0.0022\n",
            "Epoch 53/100\n",
            "23/23 [==============================] - 8s 346ms/step - loss: 1.7150e-04 - val_loss: 0.0030\n",
            "Epoch 54/100\n",
            "23/23 [==============================] - 13s 587ms/step - loss: 1.6626e-04 - val_loss: 0.0013\n",
            "Epoch 55/100\n",
            "23/23 [==============================] - 10s 440ms/step - loss: 1.7577e-04 - val_loss: 0.0039\n",
            "Epoch 56/100\n",
            "23/23 [==============================] - 8s 348ms/step - loss: 1.5963e-04 - val_loss: 0.0012\n",
            "Epoch 57/100\n",
            "23/23 [==============================] - 8s 356ms/step - loss: 1.6355e-04 - val_loss: 0.0037\n",
            "Epoch 58/100\n",
            "23/23 [==============================] - 8s 351ms/step - loss: 1.5527e-04 - val_loss: 0.0025\n",
            "Epoch 59/100\n",
            "23/23 [==============================] - 8s 350ms/step - loss: 1.5881e-04 - val_loss: 0.0028\n",
            "Epoch 60/100\n",
            "23/23 [==============================] - 8s 351ms/step - loss: 1.4498e-04 - val_loss: 0.0010\n",
            "Epoch 61/100\n",
            "23/23 [==============================] - 8s 369ms/step - loss: 1.5317e-04 - val_loss: 0.0021\n",
            "Epoch 62/100\n",
            "23/23 [==============================] - 8s 349ms/step - loss: 1.4284e-04 - val_loss: 9.6963e-04\n",
            "Epoch 63/100\n",
            "23/23 [==============================] - 8s 348ms/step - loss: 1.4812e-04 - val_loss: 0.0025\n",
            "Epoch 64/100\n",
            "23/23 [==============================] - 8s 350ms/step - loss: 1.5314e-04 - val_loss: 0.0024\n",
            "Epoch 65/100\n",
            "23/23 [==============================] - 8s 350ms/step - loss: 1.5128e-04 - val_loss: 9.1667e-04\n",
            "Epoch 66/100\n",
            "23/23 [==============================] - 8s 349ms/step - loss: 1.5165e-04 - val_loss: 0.0027\n",
            "Epoch 67/100\n",
            "23/23 [==============================] - 8s 348ms/step - loss: 1.3353e-04 - val_loss: 0.0021\n",
            "Epoch 68/100\n",
            "23/23 [==============================] - 8s 348ms/step - loss: 1.4373e-04 - val_loss: 0.0031\n",
            "Epoch 69/100\n",
            "23/23 [==============================] - 8s 350ms/step - loss: 1.3539e-04 - val_loss: 0.0021\n",
            "Epoch 70/100\n",
            "23/23 [==============================] - 8s 349ms/step - loss: 1.2622e-04 - val_loss: 0.0015\n",
            "Epoch 71/100\n",
            "23/23 [==============================] - 8s 354ms/step - loss: 1.3615e-04 - val_loss: 0.0019\n",
            "Epoch 72/100\n",
            "23/23 [==============================] - 8s 354ms/step - loss: 1.2608e-04 - val_loss: 7.2142e-04\n",
            "Epoch 73/100\n",
            "23/23 [==============================] - 8s 350ms/step - loss: 1.4149e-04 - val_loss: 0.0017\n",
            "Epoch 74/100\n",
            "23/23 [==============================] - 8s 349ms/step - loss: 1.2508e-04 - val_loss: 0.0026\n",
            "Epoch 75/100\n",
            "23/23 [==============================] - 8s 348ms/step - loss: 1.2422e-04 - val_loss: 0.0012\n",
            "Epoch 76/100\n",
            "23/23 [==============================] - 8s 353ms/step - loss: 1.2400e-04 - val_loss: 0.0014\n",
            "Epoch 77/100\n",
            "23/23 [==============================] - 8s 349ms/step - loss: 1.2379e-04 - val_loss: 0.0014\n",
            "Epoch 78/100\n",
            "23/23 [==============================] - 8s 347ms/step - loss: 1.3604e-04 - val_loss: 0.0017\n",
            "Epoch 79/100\n",
            "23/23 [==============================] - 8s 347ms/step - loss: 1.1894e-04 - val_loss: 0.0025\n",
            "Epoch 80/100\n",
            "23/23 [==============================] - 8s 347ms/step - loss: 1.1998e-04 - val_loss: 0.0015\n",
            "Epoch 81/100\n",
            "23/23 [==============================] - 8s 350ms/step - loss: 1.2995e-04 - val_loss: 6.3770e-04\n",
            "Epoch 82/100\n",
            "23/23 [==============================] - 8s 350ms/step - loss: 1.3428e-04 - val_loss: 0.0021\n",
            "Epoch 83/100\n",
            "23/23 [==============================] - 8s 347ms/step - loss: 1.1830e-04 - val_loss: 0.0012\n",
            "Epoch 84/100\n",
            "23/23 [==============================] - 8s 352ms/step - loss: 1.2606e-04 - val_loss: 0.0012\n",
            "Epoch 85/100\n",
            "23/23 [==============================] - 8s 350ms/step - loss: 1.2585e-04 - val_loss: 0.0014\n",
            "Epoch 86/100\n",
            "23/23 [==============================] - 8s 349ms/step - loss: 1.2135e-04 - val_loss: 0.0012\n",
            "Epoch 87/100\n",
            "23/23 [==============================] - 8s 347ms/step - loss: 1.1249e-04 - val_loss: 0.0037\n",
            "Epoch 88/100\n",
            "23/23 [==============================] - 8s 349ms/step - loss: 1.4811e-04 - val_loss: 0.0013\n",
            "Epoch 89/100\n",
            "23/23 [==============================] - 8s 347ms/step - loss: 1.2484e-04 - val_loss: 9.1923e-04\n",
            "Epoch 90/100\n",
            "23/23 [==============================] - 8s 346ms/step - loss: 1.2360e-04 - val_loss: 6.4483e-04\n",
            "Epoch 91/100\n",
            "23/23 [==============================] - 8s 347ms/step - loss: 1.1604e-04 - val_loss: 0.0014\n",
            "Epoch 92/100\n",
            "23/23 [==============================] - 8s 347ms/step - loss: 1.0996e-04 - val_loss: 0.0019\n",
            "Epoch 93/100\n",
            "23/23 [==============================] - 8s 350ms/step - loss: 1.2401e-04 - val_loss: 0.0016\n",
            "Epoch 94/100\n",
            "23/23 [==============================] - 8s 347ms/step - loss: 1.1553e-04 - val_loss: 0.0012\n",
            "Epoch 95/100\n",
            "23/23 [==============================] - 8s 346ms/step - loss: 1.1118e-04 - val_loss: 0.0018\n",
            "Epoch 96/100\n",
            "23/23 [==============================] - 8s 345ms/step - loss: 1.1684e-04 - val_loss: 0.0019\n",
            "Epoch 97/100\n",
            "23/23 [==============================] - 8s 346ms/step - loss: 1.2064e-04 - val_loss: 0.0014\n",
            "Epoch 98/100\n",
            "23/23 [==============================] - 8s 346ms/step - loss: 1.1433e-04 - val_loss: 0.0013\n",
            "Epoch 99/100\n",
            "23/23 [==============================] - 8s 348ms/step - loss: 1.1629e-04 - val_loss: 0.0017\n",
            "Epoch 100/100\n",
            "23/23 [==============================] - 8s 348ms/step - loss: 1.0941e-04 - val_loss: 0.0015\n"
          ]
        },
        {
          "output_type": "execute_result",
          "data": {
            "text/plain": [
              "<tensorflow.python.keras.callbacks.History at 0x7f7650401b90>"
            ]
          },
          "metadata": {},
          "execution_count": 63
        }
      ]
    },
    {
      "cell_type": "code",
      "source": [
        "#Lets predict and check performance metrics\n",
        "train_predict = model.predict(x_train)\n",
        "test_predict = model.predict(x_test)\n"
      ],
      "metadata": {
        "id": "M9H-ED474LY5"
      },
      "execution_count": null,
      "outputs": []
    },
    {
      "cell_type": "code",
      "source": [
        "#Transform back to original form\n",
        "train_predict = scaler.inverse_transform(train_predict)\n",
        "test_predict = scaler.inverse_transform(test_predict)"
      ],
      "metadata": {
        "id": "UJfYfdaH95T3"
      },
      "execution_count": null,
      "outputs": []
    },
    {
      "cell_type": "code",
      "source": [
        "#Calculate RMSE performance metrics\n",
        "math.sqrt(mean_squared_error(y_train, train_predict))"
      ],
      "metadata": {
        "colab": {
          "base_uri": "https://localhost:8080/"
        },
        "id": "3SL1sMvd4ggw",
        "outputId": "1ecdf176-864e-461e-8a3e-68d03f6d3e3a"
      },
      "execution_count": null,
      "outputs": [
        {
          "output_type": "execute_result",
          "data": {
            "text/plain": [
              "135.25613067921722"
            ]
          },
          "metadata": {},
          "execution_count": 69
        }
      ]
    },
    {
      "cell_type": "code",
      "source": [
        "#Test Data RMSE\n",
        "math.sqrt(mean_squared_error(y_test, test_predict))"
      ],
      "metadata": {
        "id": "wmt83fVl4lfS",
        "colab": {
          "base_uri": "https://localhost:8080/"
        },
        "outputId": "bfd2ce9e-baab-4dad-895e-b0fdbdf9cf11"
      },
      "execution_count": null,
      "outputs": [
        {
          "output_type": "execute_result",
          "data": {
            "text/plain": [
              "225.62041546984733"
            ]
          },
          "metadata": {},
          "execution_count": 70
        }
      ]
    },
    {
      "cell_type": "code",
      "source": [
        "#Plotting\n",
        "\n",
        "#Shift train prediction for plotting\n",
        "look_back = 100\n",
        "trainPredictPlot = np.empty_like(df_high)\n",
        "trainPredictPlot[:,:] = np.nan\n",
        "trainPredictPlot[look_back:len(train_predict) + look_back, :] = train_predict\n",
        "\n",
        "#Shift test prediction for plotting\n",
        "testPredictPlot = np.empty_like(df_high)\n",
        "testPredictPlot[:,:] = np.nan\n",
        "testPredictPlot[len(train_predict) + (look_back * 2)+1:len(df_high) - 1, :] = test_predict\n",
        "\n",
        "#Plot baseline and predictions\n",
        "plt.plot(scaler.inverse_transform(df_high))\n",
        "plt.plot(trainPredictPlot)\n",
        "plt.plot(testPredictPlot)\n",
        "plt.show()\n",
        "\n",
        "print(\"Green indicates the Predicted Data\")\n",
        "print(\"Blue indicates the Complete Data\")\n",
        "print(\"Orange indicates the Train Data\")"
      ],
      "metadata": {
        "id": "g0aWHDgT4nd9",
        "colab": {
          "base_uri": "https://localhost:8080/",
          "height": 320
        },
        "outputId": "7631ca7a-5890-4424-81e3-e83cac12e58f"
      },
      "execution_count": null,
      "outputs": [
        {
          "output_type": "display_data",
          "data": {
            "image/png": "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\n",
            "text/plain": [
              "<Figure size 432x288 with 1 Axes>"
            ]
          },
          "metadata": {
            "needs_background": "light"
          }
        },
        {
          "output_type": "stream",
          "name": "stdout",
          "text": [
            "Green indicates the Predicted Data\n",
            "Blue indicates the Complete Data\n",
            "Orange indicates the Train Data\n"
          ]
        }
      ]
    },
    {
      "cell_type": "code",
      "source": [
        "#Predict the next 28 days Stock Price\n",
        "len(test_data), x_test.shape"
      ],
      "metadata": {
        "id": "vctgMXWK4p2A",
        "colab": {
          "base_uri": "https://localhost:8080/"
        },
        "outputId": "7779a43a-36d1-4eec-ebd0-16f2d160e19f"
      },
      "execution_count": null,
      "outputs": [
        {
          "output_type": "execute_result",
          "data": {
            "text/plain": [
              "(509, (408, 100, 1))"
            ]
          },
          "metadata": {},
          "execution_count": 72
        }
      ]
    },
    {
      "cell_type": "code",
      "source": [
        "x_input = test_data[409:].reshape(1,-1)\n",
        "x_input.shape"
      ],
      "metadata": {
        "id": "PtaljPjr48v2",
        "colab": {
          "base_uri": "https://localhost:8080/"
        },
        "outputId": "6b44a666-d34a-46f6-8c4c-74fdb5b0fc1a"
      },
      "execution_count": null,
      "outputs": [
        {
          "output_type": "execute_result",
          "data": {
            "text/plain": [
              "(1, 100)"
            ]
          },
          "metadata": {},
          "execution_count": 73
        }
      ]
    },
    {
      "cell_type": "code",
      "source": [
        "temp_input = list(x_input)\n",
        "temp_input = temp_input[0].tolist()\n",
        "\n",
        "lst_output=[]\n",
        "n_steps=100\n",
        "nextNumberOfDays = 28\n",
        "i=0\n",
        "\n",
        "while(i<nextNumberOfDays):\n",
        "    \n",
        "    if(len(temp_input)>100):\n",
        "        x_input=np.array(temp_input[1:])\n",
        "        print(\"{} day input {}\".format(i,x_input))\n",
        "        x_input=x_input.reshape(1,-1)\n",
        "        x_input = x_input.reshape((1, n_steps, 1))\n",
        "        yhat = model.predict(x_input, verbose=0)\n",
        "        print(\"{} day output {}\".format(i,yhat))\n",
        "        temp_input.extend(yhat[0].tolist())\n",
        "        temp_input=temp_input[1:]\n",
        "        lst_output.extend(yhat.tolist())\n",
        "        i=i+1\n",
        "    else:\n",
        "        x_input = x_input.reshape((1, n_steps,1))\n",
        "        yhat = model.predict(x_input, verbose=0)\n",
        "        print(yhat[0])\n",
        "        temp_input.extend(yhat[0].tolist())\n",
        "        print(len(temp_input))\n",
        "        lst_output.extend(yhat.tolist())\n",
        "        i=i+1\n",
        "    \n",
        "\n",
        "print(lst_output)"
      ],
      "metadata": {
        "id": "aJfQji_X5AOz",
        "colab": {
          "base_uri": "https://localhost:8080/"
        },
        "outputId": "6df131c4-b987-4446-e3fa-5f05cd1c3eac"
      },
      "execution_count": null,
      "outputs": [
        {
          "output_type": "stream",
          "name": "stdout",
          "text": [
            "[0.59457695]\n",
            "101\n",
            "1 day input [0.86013417 0.85464525 0.84448059 0.8072779  0.71843871 0.66192316\n",
            " 0.67696686 0.67554381 0.67310429 0.68428542 0.68936776 0.70217524\n",
            " 0.71803212 0.72941655 0.73144948 0.74486684 0.76926205 0.75991055\n",
            " 0.74242732 0.73958122 0.74771295 0.75991055 0.7584875  0.76621264\n",
            " 0.75462492 0.76316324 0.79670665 0.80585485 0.7889815  0.78003659\n",
            " 0.73978451 0.73002643 0.73490547 0.74872942 0.75991055 0.75462492\n",
            " 0.75401504 0.76174019 0.7737345  0.82008538 0.80585485 0.81154706\n",
            " 0.77434438 0.78633869 0.79284407 0.78328929 0.77109169 0.74385038\n",
            " 0.71193332 0.68733482 0.67818662 0.65257166 0.64301687 0.65643423\n",
            " 0.67656028 0.67371417 0.65114861 0.65521447 0.66761537 0.67838992\n",
            " 0.69993901 0.63122586 0.63508843 0.64098394 0.64545639 0.64118723\n",
            " 0.63854442 0.63081927 0.62472047 0.6330555  0.64728603 0.6574507\n",
            " 0.66761537 0.66720878 0.64159382 0.62776987 0.63651149 0.63630819\n",
            " 0.62980281 0.62817646 0.63813783 0.65358813 0.63183574 0.57653995\n",
            " 0.57816629 0.57613336 0.61943484 0.57979264 0.57288067 0.62573694\n",
            " 0.63102257 0.6361049  0.62776987 0.6269567  0.63590161 0.62594023\n",
            " 0.6391543  0.62614353 0.62268754 0.59457695]\n",
            "1 day output [[0.5559681]]\n",
            "2 day input [0.85464525 0.84448059 0.8072779  0.71843871 0.66192316 0.67696686\n",
            " 0.67554381 0.67310429 0.68428542 0.68936776 0.70217524 0.71803212\n",
            " 0.72941655 0.73144948 0.74486684 0.76926205 0.75991055 0.74242732\n",
            " 0.73958122 0.74771295 0.75991055 0.7584875  0.76621264 0.75462492\n",
            " 0.76316324 0.79670665 0.80585485 0.7889815  0.78003659 0.73978451\n",
            " 0.73002643 0.73490547 0.74872942 0.75991055 0.75462492 0.75401504\n",
            " 0.76174019 0.7737345  0.82008538 0.80585485 0.81154706 0.77434438\n",
            " 0.78633869 0.79284407 0.78328929 0.77109169 0.74385038 0.71193332\n",
            " 0.68733482 0.67818662 0.65257166 0.64301687 0.65643423 0.67656028\n",
            " 0.67371417 0.65114861 0.65521447 0.66761537 0.67838992 0.69993901\n",
            " 0.63122586 0.63508843 0.64098394 0.64545639 0.64118723 0.63854442\n",
            " 0.63081927 0.62472047 0.6330555  0.64728603 0.6574507  0.66761537\n",
            " 0.66720878 0.64159382 0.62776987 0.63651149 0.63630819 0.62980281\n",
            " 0.62817646 0.63813783 0.65358813 0.63183574 0.57653995 0.57816629\n",
            " 0.57613336 0.61943484 0.57979264 0.57288067 0.62573694 0.63102257\n",
            " 0.6361049  0.62776987 0.6269567  0.63590161 0.62594023 0.6391543\n",
            " 0.62614353 0.62268754 0.59457695 0.55596811]\n",
            "2 day output [[0.51288795]]\n",
            "3 day input [0.84448059 0.8072779  0.71843871 0.66192316 0.67696686 0.67554381\n",
            " 0.67310429 0.68428542 0.68936776 0.70217524 0.71803212 0.72941655\n",
            " 0.73144948 0.74486684 0.76926205 0.75991055 0.74242732 0.73958122\n",
            " 0.74771295 0.75991055 0.7584875  0.76621264 0.75462492 0.76316324\n",
            " 0.79670665 0.80585485 0.7889815  0.78003659 0.73978451 0.73002643\n",
            " 0.73490547 0.74872942 0.75991055 0.75462492 0.75401504 0.76174019\n",
            " 0.7737345  0.82008538 0.80585485 0.81154706 0.77434438 0.78633869\n",
            " 0.79284407 0.78328929 0.77109169 0.74385038 0.71193332 0.68733482\n",
            " 0.67818662 0.65257166 0.64301687 0.65643423 0.67656028 0.67371417\n",
            " 0.65114861 0.65521447 0.66761537 0.67838992 0.69993901 0.63122586\n",
            " 0.63508843 0.64098394 0.64545639 0.64118723 0.63854442 0.63081927\n",
            " 0.62472047 0.6330555  0.64728603 0.6574507  0.66761537 0.66720878\n",
            " 0.64159382 0.62776987 0.63651149 0.63630819 0.62980281 0.62817646\n",
            " 0.63813783 0.65358813 0.63183574 0.57653995 0.57816629 0.57613336\n",
            " 0.61943484 0.57979264 0.57288067 0.62573694 0.63102257 0.6361049\n",
            " 0.62776987 0.6269567  0.63590161 0.62594023 0.6391543  0.62614353\n",
            " 0.62268754 0.59457695 0.55596811 0.51288795]\n",
            "3 day output [[0.47937497]]\n",
            "4 day input [0.8072779  0.71843871 0.66192316 0.67696686 0.67554381 0.67310429\n",
            " 0.68428542 0.68936776 0.70217524 0.71803212 0.72941655 0.73144948\n",
            " 0.74486684 0.76926205 0.75991055 0.74242732 0.73958122 0.74771295\n",
            " 0.75991055 0.7584875  0.76621264 0.75462492 0.76316324 0.79670665\n",
            " 0.80585485 0.7889815  0.78003659 0.73978451 0.73002643 0.73490547\n",
            " 0.74872942 0.75991055 0.75462492 0.75401504 0.76174019 0.7737345\n",
            " 0.82008538 0.80585485 0.81154706 0.77434438 0.78633869 0.79284407\n",
            " 0.78328929 0.77109169 0.74385038 0.71193332 0.68733482 0.67818662\n",
            " 0.65257166 0.64301687 0.65643423 0.67656028 0.67371417 0.65114861\n",
            " 0.65521447 0.66761537 0.67838992 0.69993901 0.63122586 0.63508843\n",
            " 0.64098394 0.64545639 0.64118723 0.63854442 0.63081927 0.62472047\n",
            " 0.6330555  0.64728603 0.6574507  0.66761537 0.66720878 0.64159382\n",
            " 0.62776987 0.63651149 0.63630819 0.62980281 0.62817646 0.63813783\n",
            " 0.65358813 0.63183574 0.57653995 0.57816629 0.57613336 0.61943484\n",
            " 0.57979264 0.57288067 0.62573694 0.63102257 0.6361049  0.62776987\n",
            " 0.6269567  0.63590161 0.62594023 0.6391543  0.62614353 0.62268754\n",
            " 0.59457695 0.55596811 0.51288795 0.47937497]\n",
            "4 day output [[0.45303297]]\n",
            "5 day input [0.71843871 0.66192316 0.67696686 0.67554381 0.67310429 0.68428542\n",
            " 0.68936776 0.70217524 0.71803212 0.72941655 0.73144948 0.74486684\n",
            " 0.76926205 0.75991055 0.74242732 0.73958122 0.74771295 0.75991055\n",
            " 0.7584875  0.76621264 0.75462492 0.76316324 0.79670665 0.80585485\n",
            " 0.7889815  0.78003659 0.73978451 0.73002643 0.73490547 0.74872942\n",
            " 0.75991055 0.75462492 0.75401504 0.76174019 0.7737345  0.82008538\n",
            " 0.80585485 0.81154706 0.77434438 0.78633869 0.79284407 0.78328929\n",
            " 0.77109169 0.74385038 0.71193332 0.68733482 0.67818662 0.65257166\n",
            " 0.64301687 0.65643423 0.67656028 0.67371417 0.65114861 0.65521447\n",
            " 0.66761537 0.67838992 0.69993901 0.63122586 0.63508843 0.64098394\n",
            " 0.64545639 0.64118723 0.63854442 0.63081927 0.62472047 0.6330555\n",
            " 0.64728603 0.6574507  0.66761537 0.66720878 0.64159382 0.62776987\n",
            " 0.63651149 0.63630819 0.62980281 0.62817646 0.63813783 0.65358813\n",
            " 0.63183574 0.57653995 0.57816629 0.57613336 0.61943484 0.57979264\n",
            " 0.57288067 0.62573694 0.63102257 0.6361049  0.62776987 0.6269567\n",
            " 0.63590161 0.62594023 0.6391543  0.62614353 0.62268754 0.59457695\n",
            " 0.55596811 0.51288795 0.47937497 0.45303297]\n",
            "5 day output [[0.43315384]]\n",
            "6 day input [0.66192316 0.67696686 0.67554381 0.67310429 0.68428542 0.68936776\n",
            " 0.70217524 0.71803212 0.72941655 0.73144948 0.74486684 0.76926205\n",
            " 0.75991055 0.74242732 0.73958122 0.74771295 0.75991055 0.7584875\n",
            " 0.76621264 0.75462492 0.76316324 0.79670665 0.80585485 0.7889815\n",
            " 0.78003659 0.73978451 0.73002643 0.73490547 0.74872942 0.75991055\n",
            " 0.75462492 0.75401504 0.76174019 0.7737345  0.82008538 0.80585485\n",
            " 0.81154706 0.77434438 0.78633869 0.79284407 0.78328929 0.77109169\n",
            " 0.74385038 0.71193332 0.68733482 0.67818662 0.65257166 0.64301687\n",
            " 0.65643423 0.67656028 0.67371417 0.65114861 0.65521447 0.66761537\n",
            " 0.67838992 0.69993901 0.63122586 0.63508843 0.64098394 0.64545639\n",
            " 0.64118723 0.63854442 0.63081927 0.62472047 0.6330555  0.64728603\n",
            " 0.6574507  0.66761537 0.66720878 0.64159382 0.62776987 0.63651149\n",
            " 0.63630819 0.62980281 0.62817646 0.63813783 0.65358813 0.63183574\n",
            " 0.57653995 0.57816629 0.57613336 0.61943484 0.57979264 0.57288067\n",
            " 0.62573694 0.63102257 0.6361049  0.62776987 0.6269567  0.63590161\n",
            " 0.62594023 0.6391543  0.62614353 0.62268754 0.59457695 0.55596811\n",
            " 0.51288795 0.47937497 0.45303297 0.43315384]\n",
            "6 day output [[0.42058113]]\n",
            "7 day input [0.67696686 0.67554381 0.67310429 0.68428542 0.68936776 0.70217524\n",
            " 0.71803212 0.72941655 0.73144948 0.74486684 0.76926205 0.75991055\n",
            " 0.74242732 0.73958122 0.74771295 0.75991055 0.7584875  0.76621264\n",
            " 0.75462492 0.76316324 0.79670665 0.80585485 0.7889815  0.78003659\n",
            " 0.73978451 0.73002643 0.73490547 0.74872942 0.75991055 0.75462492\n",
            " 0.75401504 0.76174019 0.7737345  0.82008538 0.80585485 0.81154706\n",
            " 0.77434438 0.78633869 0.79284407 0.78328929 0.77109169 0.74385038\n",
            " 0.71193332 0.68733482 0.67818662 0.65257166 0.64301687 0.65643423\n",
            " 0.67656028 0.67371417 0.65114861 0.65521447 0.66761537 0.67838992\n",
            " 0.69993901 0.63122586 0.63508843 0.64098394 0.64545639 0.64118723\n",
            " 0.63854442 0.63081927 0.62472047 0.6330555  0.64728603 0.6574507\n",
            " 0.66761537 0.66720878 0.64159382 0.62776987 0.63651149 0.63630819\n",
            " 0.62980281 0.62817646 0.63813783 0.65358813 0.63183574 0.57653995\n",
            " 0.57816629 0.57613336 0.61943484 0.57979264 0.57288067 0.62573694\n",
            " 0.63102257 0.6361049  0.62776987 0.6269567  0.63590161 0.62594023\n",
            " 0.6391543  0.62614353 0.62268754 0.59457695 0.55596811 0.51288795\n",
            " 0.47937497 0.45303297 0.43315384 0.42058113]\n",
            "7 day output [[0.41295323]]\n",
            "8 day input [0.67554381 0.67310429 0.68428542 0.68936776 0.70217524 0.71803212\n",
            " 0.72941655 0.73144948 0.74486684 0.76926205 0.75991055 0.74242732\n",
            " 0.73958122 0.74771295 0.75991055 0.7584875  0.76621264 0.75462492\n",
            " 0.76316324 0.79670665 0.80585485 0.7889815  0.78003659 0.73978451\n",
            " 0.73002643 0.73490547 0.74872942 0.75991055 0.75462492 0.75401504\n",
            " 0.76174019 0.7737345  0.82008538 0.80585485 0.81154706 0.77434438\n",
            " 0.78633869 0.79284407 0.78328929 0.77109169 0.74385038 0.71193332\n",
            " 0.68733482 0.67818662 0.65257166 0.64301687 0.65643423 0.67656028\n",
            " 0.67371417 0.65114861 0.65521447 0.66761537 0.67838992 0.69993901\n",
            " 0.63122586 0.63508843 0.64098394 0.64545639 0.64118723 0.63854442\n",
            " 0.63081927 0.62472047 0.6330555  0.64728603 0.6574507  0.66761537\n",
            " 0.66720878 0.64159382 0.62776987 0.63651149 0.63630819 0.62980281\n",
            " 0.62817646 0.63813783 0.65358813 0.63183574 0.57653995 0.57816629\n",
            " 0.57613336 0.61943484 0.57979264 0.57288067 0.62573694 0.63102257\n",
            " 0.6361049  0.62776987 0.6269567  0.63590161 0.62594023 0.6391543\n",
            " 0.62614353 0.62268754 0.59457695 0.55596811 0.51288795 0.47937497\n",
            " 0.45303297 0.43315384 0.42058113 0.41295323]\n",
            "8 day output [[0.4076422]]\n",
            "9 day input [0.67310429 0.68428542 0.68936776 0.70217524 0.71803212 0.72941655\n",
            " 0.73144948 0.74486684 0.76926205 0.75991055 0.74242732 0.73958122\n",
            " 0.74771295 0.75991055 0.7584875  0.76621264 0.75462492 0.76316324\n",
            " 0.79670665 0.80585485 0.7889815  0.78003659 0.73978451 0.73002643\n",
            " 0.73490547 0.74872942 0.75991055 0.75462492 0.75401504 0.76174019\n",
            " 0.7737345  0.82008538 0.80585485 0.81154706 0.77434438 0.78633869\n",
            " 0.79284407 0.78328929 0.77109169 0.74385038 0.71193332 0.68733482\n",
            " 0.67818662 0.65257166 0.64301687 0.65643423 0.67656028 0.67371417\n",
            " 0.65114861 0.65521447 0.66761537 0.67838992 0.69993901 0.63122586\n",
            " 0.63508843 0.64098394 0.64545639 0.64118723 0.63854442 0.63081927\n",
            " 0.62472047 0.6330555  0.64728603 0.6574507  0.66761537 0.66720878\n",
            " 0.64159382 0.62776987 0.63651149 0.63630819 0.62980281 0.62817646\n",
            " 0.63813783 0.65358813 0.63183574 0.57653995 0.57816629 0.57613336\n",
            " 0.61943484 0.57979264 0.57288067 0.62573694 0.63102257 0.6361049\n",
            " 0.62776987 0.6269567  0.63590161 0.62594023 0.6391543  0.62614353\n",
            " 0.62268754 0.59457695 0.55596811 0.51288795 0.47937497 0.45303297\n",
            " 0.43315384 0.42058113 0.41295323 0.40764219]\n",
            "9 day output [[0.40310344]]\n",
            "10 day input [0.68428542 0.68936776 0.70217524 0.71803212 0.72941655 0.73144948\n",
            " 0.74486684 0.76926205 0.75991055 0.74242732 0.73958122 0.74771295\n",
            " 0.75991055 0.7584875  0.76621264 0.75462492 0.76316324 0.79670665\n",
            " 0.80585485 0.7889815  0.78003659 0.73978451 0.73002643 0.73490547\n",
            " 0.74872942 0.75991055 0.75462492 0.75401504 0.76174019 0.7737345\n",
            " 0.82008538 0.80585485 0.81154706 0.77434438 0.78633869 0.79284407\n",
            " 0.78328929 0.77109169 0.74385038 0.71193332 0.68733482 0.67818662\n",
            " 0.65257166 0.64301687 0.65643423 0.67656028 0.67371417 0.65114861\n",
            " 0.65521447 0.66761537 0.67838992 0.69993901 0.63122586 0.63508843\n",
            " 0.64098394 0.64545639 0.64118723 0.63854442 0.63081927 0.62472047\n",
            " 0.6330555  0.64728603 0.6574507  0.66761537 0.66720878 0.64159382\n",
            " 0.62776987 0.63651149 0.63630819 0.62980281 0.62817646 0.63813783\n",
            " 0.65358813 0.63183574 0.57653995 0.57816629 0.57613336 0.61943484\n",
            " 0.57979264 0.57288067 0.62573694 0.63102257 0.6361049  0.62776987\n",
            " 0.6269567  0.63590161 0.62594023 0.6391543  0.62614353 0.62268754\n",
            " 0.59457695 0.55596811 0.51288795 0.47937497 0.45303297 0.43315384\n",
            " 0.42058113 0.41295323 0.40764219 0.40310344]\n",
            "10 day output [[0.3983974]]\n",
            "11 day input [0.68936776 0.70217524 0.71803212 0.72941655 0.73144948 0.74486684\n",
            " 0.76926205 0.75991055 0.74242732 0.73958122 0.74771295 0.75991055\n",
            " 0.7584875  0.76621264 0.75462492 0.76316324 0.79670665 0.80585485\n",
            " 0.7889815  0.78003659 0.73978451 0.73002643 0.73490547 0.74872942\n",
            " 0.75991055 0.75462492 0.75401504 0.76174019 0.7737345  0.82008538\n",
            " 0.80585485 0.81154706 0.77434438 0.78633869 0.79284407 0.78328929\n",
            " 0.77109169 0.74385038 0.71193332 0.68733482 0.67818662 0.65257166\n",
            " 0.64301687 0.65643423 0.67656028 0.67371417 0.65114861 0.65521447\n",
            " 0.66761537 0.67838992 0.69993901 0.63122586 0.63508843 0.64098394\n",
            " 0.64545639 0.64118723 0.63854442 0.63081927 0.62472047 0.6330555\n",
            " 0.64728603 0.6574507  0.66761537 0.66720878 0.64159382 0.62776987\n",
            " 0.63651149 0.63630819 0.62980281 0.62817646 0.63813783 0.65358813\n",
            " 0.63183574 0.57653995 0.57816629 0.57613336 0.61943484 0.57979264\n",
            " 0.57288067 0.62573694 0.63102257 0.6361049  0.62776987 0.6269567\n",
            " 0.63590161 0.62594023 0.6391543  0.62614353 0.62268754 0.59457695\n",
            " 0.55596811 0.51288795 0.47937497 0.45303297 0.43315384 0.42058113\n",
            " 0.41295323 0.40764219 0.40310344 0.39839739]\n",
            "11 day output [[0.39302683]]\n",
            "12 day input [0.70217524 0.71803212 0.72941655 0.73144948 0.74486684 0.76926205\n",
            " 0.75991055 0.74242732 0.73958122 0.74771295 0.75991055 0.7584875\n",
            " 0.76621264 0.75462492 0.76316324 0.79670665 0.80585485 0.7889815\n",
            " 0.78003659 0.73978451 0.73002643 0.73490547 0.74872942 0.75991055\n",
            " 0.75462492 0.75401504 0.76174019 0.7737345  0.82008538 0.80585485\n",
            " 0.81154706 0.77434438 0.78633869 0.79284407 0.78328929 0.77109169\n",
            " 0.74385038 0.71193332 0.68733482 0.67818662 0.65257166 0.64301687\n",
            " 0.65643423 0.67656028 0.67371417 0.65114861 0.65521447 0.66761537\n",
            " 0.67838992 0.69993901 0.63122586 0.63508843 0.64098394 0.64545639\n",
            " 0.64118723 0.63854442 0.63081927 0.62472047 0.6330555  0.64728603\n",
            " 0.6574507  0.66761537 0.66720878 0.64159382 0.62776987 0.63651149\n",
            " 0.63630819 0.62980281 0.62817646 0.63813783 0.65358813 0.63183574\n",
            " 0.57653995 0.57816629 0.57613336 0.61943484 0.57979264 0.57288067\n",
            " 0.62573694 0.63102257 0.6361049  0.62776987 0.6269567  0.63590161\n",
            " 0.62594023 0.6391543  0.62614353 0.62268754 0.59457695 0.55596811\n",
            " 0.51288795 0.47937497 0.45303297 0.43315384 0.42058113 0.41295323\n",
            " 0.40764219 0.40310344 0.39839739 0.39302683]\n",
            "12 day output [[0.38690466]]\n",
            "13 day input [0.71803212 0.72941655 0.73144948 0.74486684 0.76926205 0.75991055\n",
            " 0.74242732 0.73958122 0.74771295 0.75991055 0.7584875  0.76621264\n",
            " 0.75462492 0.76316324 0.79670665 0.80585485 0.7889815  0.78003659\n",
            " 0.73978451 0.73002643 0.73490547 0.74872942 0.75991055 0.75462492\n",
            " 0.75401504 0.76174019 0.7737345  0.82008538 0.80585485 0.81154706\n",
            " 0.77434438 0.78633869 0.79284407 0.78328929 0.77109169 0.74385038\n",
            " 0.71193332 0.68733482 0.67818662 0.65257166 0.64301687 0.65643423\n",
            " 0.67656028 0.67371417 0.65114861 0.65521447 0.66761537 0.67838992\n",
            " 0.69993901 0.63122586 0.63508843 0.64098394 0.64545639 0.64118723\n",
            " 0.63854442 0.63081927 0.62472047 0.6330555  0.64728603 0.6574507\n",
            " 0.66761537 0.66720878 0.64159382 0.62776987 0.63651149 0.63630819\n",
            " 0.62980281 0.62817646 0.63813783 0.65358813 0.63183574 0.57653995\n",
            " 0.57816629 0.57613336 0.61943484 0.57979264 0.57288067 0.62573694\n",
            " 0.63102257 0.6361049  0.62776987 0.6269567  0.63590161 0.62594023\n",
            " 0.6391543  0.62614353 0.62268754 0.59457695 0.55596811 0.51288795\n",
            " 0.47937497 0.45303297 0.43315384 0.42058113 0.41295323 0.40764219\n",
            " 0.40310344 0.39839739 0.39302683 0.38690466]\n",
            "13 day output [[0.38022953]]\n",
            "14 day input [0.72941655 0.73144948 0.74486684 0.76926205 0.75991055 0.74242732\n",
            " 0.73958122 0.74771295 0.75991055 0.7584875  0.76621264 0.75462492\n",
            " 0.76316324 0.79670665 0.80585485 0.7889815  0.78003659 0.73978451\n",
            " 0.73002643 0.73490547 0.74872942 0.75991055 0.75462492 0.75401504\n",
            " 0.76174019 0.7737345  0.82008538 0.80585485 0.81154706 0.77434438\n",
            " 0.78633869 0.79284407 0.78328929 0.77109169 0.74385038 0.71193332\n",
            " 0.68733482 0.67818662 0.65257166 0.64301687 0.65643423 0.67656028\n",
            " 0.67371417 0.65114861 0.65521447 0.66761537 0.67838992 0.69993901\n",
            " 0.63122586 0.63508843 0.64098394 0.64545639 0.64118723 0.63854442\n",
            " 0.63081927 0.62472047 0.6330555  0.64728603 0.6574507  0.66761537\n",
            " 0.66720878 0.64159382 0.62776987 0.63651149 0.63630819 0.62980281\n",
            " 0.62817646 0.63813783 0.65358813 0.63183574 0.57653995 0.57816629\n",
            " 0.57613336 0.61943484 0.57979264 0.57288067 0.62573694 0.63102257\n",
            " 0.6361049  0.62776987 0.6269567  0.63590161 0.62594023 0.6391543\n",
            " 0.62614353 0.62268754 0.59457695 0.55596811 0.51288795 0.47937497\n",
            " 0.45303297 0.43315384 0.42058113 0.41295323 0.40764219 0.40310344\n",
            " 0.39839739 0.39302683 0.38690466 0.38022953]\n",
            "14 day output [[0.37334475]]\n",
            "15 day input [0.73144948 0.74486684 0.76926205 0.75991055 0.74242732 0.73958122\n",
            " 0.74771295 0.75991055 0.7584875  0.76621264 0.75462492 0.76316324\n",
            " 0.79670665 0.80585485 0.7889815  0.78003659 0.73978451 0.73002643\n",
            " 0.73490547 0.74872942 0.75991055 0.75462492 0.75401504 0.76174019\n",
            " 0.7737345  0.82008538 0.80585485 0.81154706 0.77434438 0.78633869\n",
            " 0.79284407 0.78328929 0.77109169 0.74385038 0.71193332 0.68733482\n",
            " 0.67818662 0.65257166 0.64301687 0.65643423 0.67656028 0.67371417\n",
            " 0.65114861 0.65521447 0.66761537 0.67838992 0.69993901 0.63122586\n",
            " 0.63508843 0.64098394 0.64545639 0.64118723 0.63854442 0.63081927\n",
            " 0.62472047 0.6330555  0.64728603 0.6574507  0.66761537 0.66720878\n",
            " 0.64159382 0.62776987 0.63651149 0.63630819 0.62980281 0.62817646\n",
            " 0.63813783 0.65358813 0.63183574 0.57653995 0.57816629 0.57613336\n",
            " 0.61943484 0.57979264 0.57288067 0.62573694 0.63102257 0.6361049\n",
            " 0.62776987 0.6269567  0.63590161 0.62594023 0.6391543  0.62614353\n",
            " 0.62268754 0.59457695 0.55596811 0.51288795 0.47937497 0.45303297\n",
            " 0.43315384 0.42058113 0.41295323 0.40764219 0.40310344 0.39839739\n",
            " 0.39302683 0.38690466 0.38022953 0.37334475]\n",
            "15 day output [[0.36662745]]\n",
            "16 day input [0.74486684 0.76926205 0.75991055 0.74242732 0.73958122 0.74771295\n",
            " 0.75991055 0.7584875  0.76621264 0.75462492 0.76316324 0.79670665\n",
            " 0.80585485 0.7889815  0.78003659 0.73978451 0.73002643 0.73490547\n",
            " 0.74872942 0.75991055 0.75462492 0.75401504 0.76174019 0.7737345\n",
            " 0.82008538 0.80585485 0.81154706 0.77434438 0.78633869 0.79284407\n",
            " 0.78328929 0.77109169 0.74385038 0.71193332 0.68733482 0.67818662\n",
            " 0.65257166 0.64301687 0.65643423 0.67656028 0.67371417 0.65114861\n",
            " 0.65521447 0.66761537 0.67838992 0.69993901 0.63122586 0.63508843\n",
            " 0.64098394 0.64545639 0.64118723 0.63854442 0.63081927 0.62472047\n",
            " 0.6330555  0.64728603 0.6574507  0.66761537 0.66720878 0.64159382\n",
            " 0.62776987 0.63651149 0.63630819 0.62980281 0.62817646 0.63813783\n",
            " 0.65358813 0.63183574 0.57653995 0.57816629 0.57613336 0.61943484\n",
            " 0.57979264 0.57288067 0.62573694 0.63102257 0.6361049  0.62776987\n",
            " 0.6269567  0.63590161 0.62594023 0.6391543  0.62614353 0.62268754\n",
            " 0.59457695 0.55596811 0.51288795 0.47937497 0.45303297 0.43315384\n",
            " 0.42058113 0.41295323 0.40764219 0.40310344 0.39839739 0.39302683\n",
            " 0.38690466 0.38022953 0.37334475 0.36662745]\n",
            "16 day output [[0.36040887]]\n",
            "17 day input [0.76926205 0.75991055 0.74242732 0.73958122 0.74771295 0.75991055\n",
            " 0.7584875  0.76621264 0.75462492 0.76316324 0.79670665 0.80585485\n",
            " 0.7889815  0.78003659 0.73978451 0.73002643 0.73490547 0.74872942\n",
            " 0.75991055 0.75462492 0.75401504 0.76174019 0.7737345  0.82008538\n",
            " 0.80585485 0.81154706 0.77434438 0.78633869 0.79284407 0.78328929\n",
            " 0.77109169 0.74385038 0.71193332 0.68733482 0.67818662 0.65257166\n",
            " 0.64301687 0.65643423 0.67656028 0.67371417 0.65114861 0.65521447\n",
            " 0.66761537 0.67838992 0.69993901 0.63122586 0.63508843 0.64098394\n",
            " 0.64545639 0.64118723 0.63854442 0.63081927 0.62472047 0.6330555\n",
            " 0.64728603 0.6574507  0.66761537 0.66720878 0.64159382 0.62776987\n",
            " 0.63651149 0.63630819 0.62980281 0.62817646 0.63813783 0.65358813\n",
            " 0.63183574 0.57653995 0.57816629 0.57613336 0.61943484 0.57979264\n",
            " 0.57288067 0.62573694 0.63102257 0.6361049  0.62776987 0.6269567\n",
            " 0.63590161 0.62594023 0.6391543  0.62614353 0.62268754 0.59457695\n",
            " 0.55596811 0.51288795 0.47937497 0.45303297 0.43315384 0.42058113\n",
            " 0.41295323 0.40764219 0.40310344 0.39839739 0.39302683 0.38690466\n",
            " 0.38022953 0.37334475 0.36662745 0.36040887]\n",
            "17 day output [[0.3549264]]\n",
            "18 day input [0.75991055 0.74242732 0.73958122 0.74771295 0.75991055 0.7584875\n",
            " 0.76621264 0.75462492 0.76316324 0.79670665 0.80585485 0.7889815\n",
            " 0.78003659 0.73978451 0.73002643 0.73490547 0.74872942 0.75991055\n",
            " 0.75462492 0.75401504 0.76174019 0.7737345  0.82008538 0.80585485\n",
            " 0.81154706 0.77434438 0.78633869 0.79284407 0.78328929 0.77109169\n",
            " 0.74385038 0.71193332 0.68733482 0.67818662 0.65257166 0.64301687\n",
            " 0.65643423 0.67656028 0.67371417 0.65114861 0.65521447 0.66761537\n",
            " 0.67838992 0.69993901 0.63122586 0.63508843 0.64098394 0.64545639\n",
            " 0.64118723 0.63854442 0.63081927 0.62472047 0.6330555  0.64728603\n",
            " 0.6574507  0.66761537 0.66720878 0.64159382 0.62776987 0.63651149\n",
            " 0.63630819 0.62980281 0.62817646 0.63813783 0.65358813 0.63183574\n",
            " 0.57653995 0.57816629 0.57613336 0.61943484 0.57979264 0.57288067\n",
            " 0.62573694 0.63102257 0.6361049  0.62776987 0.6269567  0.63590161\n",
            " 0.62594023 0.6391543  0.62614353 0.62268754 0.59457695 0.55596811\n",
            " 0.51288795 0.47937497 0.45303297 0.43315384 0.42058113 0.41295323\n",
            " 0.40764219 0.40310344 0.39839739 0.39302683 0.38690466 0.38022953\n",
            " 0.37334475 0.36662745 0.36040887 0.35492641]\n",
            "18 day output [[0.35030678]]\n",
            "19 day input [0.74242732 0.73958122 0.74771295 0.75991055 0.7584875  0.76621264\n",
            " 0.75462492 0.76316324 0.79670665 0.80585485 0.7889815  0.78003659\n",
            " 0.73978451 0.73002643 0.73490547 0.74872942 0.75991055 0.75462492\n",
            " 0.75401504 0.76174019 0.7737345  0.82008538 0.80585485 0.81154706\n",
            " 0.77434438 0.78633869 0.79284407 0.78328929 0.77109169 0.74385038\n",
            " 0.71193332 0.68733482 0.67818662 0.65257166 0.64301687 0.65643423\n",
            " 0.67656028 0.67371417 0.65114861 0.65521447 0.66761537 0.67838992\n",
            " 0.69993901 0.63122586 0.63508843 0.64098394 0.64545639 0.64118723\n",
            " 0.63854442 0.63081927 0.62472047 0.6330555  0.64728603 0.6574507\n",
            " 0.66761537 0.66720878 0.64159382 0.62776987 0.63651149 0.63630819\n",
            " 0.62980281 0.62817646 0.63813783 0.65358813 0.63183574 0.57653995\n",
            " 0.57816629 0.57613336 0.61943484 0.57979264 0.57288067 0.62573694\n",
            " 0.63102257 0.6361049  0.62776987 0.6269567  0.63590161 0.62594023\n",
            " 0.6391543  0.62614353 0.62268754 0.59457695 0.55596811 0.51288795\n",
            " 0.47937497 0.45303297 0.43315384 0.42058113 0.41295323 0.40764219\n",
            " 0.40310344 0.39839739 0.39302683 0.38690466 0.38022953 0.37334475\n",
            " 0.36662745 0.36040887 0.35492641 0.35030678]\n",
            "19 day output [[0.3465727]]\n",
            "20 day input [0.73958122 0.74771295 0.75991055 0.7584875  0.76621264 0.75462492\n",
            " 0.76316324 0.79670665 0.80585485 0.7889815  0.78003659 0.73978451\n",
            " 0.73002643 0.73490547 0.74872942 0.75991055 0.75462492 0.75401504\n",
            " 0.76174019 0.7737345  0.82008538 0.80585485 0.81154706 0.77434438\n",
            " 0.78633869 0.79284407 0.78328929 0.77109169 0.74385038 0.71193332\n",
            " 0.68733482 0.67818662 0.65257166 0.64301687 0.65643423 0.67656028\n",
            " 0.67371417 0.65114861 0.65521447 0.66761537 0.67838992 0.69993901\n",
            " 0.63122586 0.63508843 0.64098394 0.64545639 0.64118723 0.63854442\n",
            " 0.63081927 0.62472047 0.6330555  0.64728603 0.6574507  0.66761537\n",
            " 0.66720878 0.64159382 0.62776987 0.63651149 0.63630819 0.62980281\n",
            " 0.62817646 0.63813783 0.65358813 0.63183574 0.57653995 0.57816629\n",
            " 0.57613336 0.61943484 0.57979264 0.57288067 0.62573694 0.63102257\n",
            " 0.6361049  0.62776987 0.6269567  0.63590161 0.62594023 0.6391543\n",
            " 0.62614353 0.62268754 0.59457695 0.55596811 0.51288795 0.47937497\n",
            " 0.45303297 0.43315384 0.42058113 0.41295323 0.40764219 0.40310344\n",
            " 0.39839739 0.39302683 0.38690466 0.38022953 0.37334475 0.36662745\n",
            " 0.36040887 0.35492641 0.35030678 0.3465727 ]\n",
            "20 day output [[0.34366295]]\n",
            "21 day input [0.74771295 0.75991055 0.7584875  0.76621264 0.75462492 0.76316324\n",
            " 0.79670665 0.80585485 0.7889815  0.78003659 0.73978451 0.73002643\n",
            " 0.73490547 0.74872942 0.75991055 0.75462492 0.75401504 0.76174019\n",
            " 0.7737345  0.82008538 0.80585485 0.81154706 0.77434438 0.78633869\n",
            " 0.79284407 0.78328929 0.77109169 0.74385038 0.71193332 0.68733482\n",
            " 0.67818662 0.65257166 0.64301687 0.65643423 0.67656028 0.67371417\n",
            " 0.65114861 0.65521447 0.66761537 0.67838992 0.69993901 0.63122586\n",
            " 0.63508843 0.64098394 0.64545639 0.64118723 0.63854442 0.63081927\n",
            " 0.62472047 0.6330555  0.64728603 0.6574507  0.66761537 0.66720878\n",
            " 0.64159382 0.62776987 0.63651149 0.63630819 0.62980281 0.62817646\n",
            " 0.63813783 0.65358813 0.63183574 0.57653995 0.57816629 0.57613336\n",
            " 0.61943484 0.57979264 0.57288067 0.62573694 0.63102257 0.6361049\n",
            " 0.62776987 0.6269567  0.63590161 0.62594023 0.6391543  0.62614353\n",
            " 0.62268754 0.59457695 0.55596811 0.51288795 0.47937497 0.45303297\n",
            " 0.43315384 0.42058113 0.41295323 0.40764219 0.40310344 0.39839739\n",
            " 0.39302683 0.38690466 0.38022953 0.37334475 0.36662745 0.36040887\n",
            " 0.35492641 0.35030678 0.3465727  0.34366295]\n",
            "21 day output [[0.34139186]]\n",
            "22 day input [0.75991055 0.7584875  0.76621264 0.75462492 0.76316324 0.79670665\n",
            " 0.80585485 0.7889815  0.78003659 0.73978451 0.73002643 0.73490547\n",
            " 0.74872942 0.75991055 0.75462492 0.75401504 0.76174019 0.7737345\n",
            " 0.82008538 0.80585485 0.81154706 0.77434438 0.78633869 0.79284407\n",
            " 0.78328929 0.77109169 0.74385038 0.71193332 0.68733482 0.67818662\n",
            " 0.65257166 0.64301687 0.65643423 0.67656028 0.67371417 0.65114861\n",
            " 0.65521447 0.66761537 0.67838992 0.69993901 0.63122586 0.63508843\n",
            " 0.64098394 0.64545639 0.64118723 0.63854442 0.63081927 0.62472047\n",
            " 0.6330555  0.64728603 0.6574507  0.66761537 0.66720878 0.64159382\n",
            " 0.62776987 0.63651149 0.63630819 0.62980281 0.62817646 0.63813783\n",
            " 0.65358813 0.63183574 0.57653995 0.57816629 0.57613336 0.61943484\n",
            " 0.57979264 0.57288067 0.62573694 0.63102257 0.6361049  0.62776987\n",
            " 0.6269567  0.63590161 0.62594023 0.6391543  0.62614353 0.62268754\n",
            " 0.59457695 0.55596811 0.51288795 0.47937497 0.45303297 0.43315384\n",
            " 0.42058113 0.41295323 0.40764219 0.40310344 0.39839739 0.39302683\n",
            " 0.38690466 0.38022953 0.37334475 0.36662745 0.36040887 0.35492641\n",
            " 0.35030678 0.3465727  0.34366295 0.34139186]\n",
            "22 day output [[0.33973074]]\n",
            "23 day input [0.7584875  0.76621264 0.75462492 0.76316324 0.79670665 0.80585485\n",
            " 0.7889815  0.78003659 0.73978451 0.73002643 0.73490547 0.74872942\n",
            " 0.75991055 0.75462492 0.75401504 0.76174019 0.7737345  0.82008538\n",
            " 0.80585485 0.81154706 0.77434438 0.78633869 0.79284407 0.78328929\n",
            " 0.77109169 0.74385038 0.71193332 0.68733482 0.67818662 0.65257166\n",
            " 0.64301687 0.65643423 0.67656028 0.67371417 0.65114861 0.65521447\n",
            " 0.66761537 0.67838992 0.69993901 0.63122586 0.63508843 0.64098394\n",
            " 0.64545639 0.64118723 0.63854442 0.63081927 0.62472047 0.6330555\n",
            " 0.64728603 0.6574507  0.66761537 0.66720878 0.64159382 0.62776987\n",
            " 0.63651149 0.63630819 0.62980281 0.62817646 0.63813783 0.65358813\n",
            " 0.63183574 0.57653995 0.57816629 0.57613336 0.61943484 0.57979264\n",
            " 0.57288067 0.62573694 0.63102257 0.6361049  0.62776987 0.6269567\n",
            " 0.63590161 0.62594023 0.6391543  0.62614353 0.62268754 0.59457695\n",
            " 0.55596811 0.51288795 0.47937497 0.45303297 0.43315384 0.42058113\n",
            " 0.41295323 0.40764219 0.40310344 0.39839739 0.39302683 0.38690466\n",
            " 0.38022953 0.37334475 0.36662745 0.36040887 0.35492641 0.35030678\n",
            " 0.3465727  0.34366295 0.34139186 0.33973074]\n",
            "23 day output [[0.338504]]\n",
            "24 day input [0.76621264 0.75462492 0.76316324 0.79670665 0.80585485 0.7889815\n",
            " 0.78003659 0.73978451 0.73002643 0.73490547 0.74872942 0.75991055\n",
            " 0.75462492 0.75401504 0.76174019 0.7737345  0.82008538 0.80585485\n",
            " 0.81154706 0.77434438 0.78633869 0.79284407 0.78328929 0.77109169\n",
            " 0.74385038 0.71193332 0.68733482 0.67818662 0.65257166 0.64301687\n",
            " 0.65643423 0.67656028 0.67371417 0.65114861 0.65521447 0.66761537\n",
            " 0.67838992 0.69993901 0.63122586 0.63508843 0.64098394 0.64545639\n",
            " 0.64118723 0.63854442 0.63081927 0.62472047 0.6330555  0.64728603\n",
            " 0.6574507  0.66761537 0.66720878 0.64159382 0.62776987 0.63651149\n",
            " 0.63630819 0.62980281 0.62817646 0.63813783 0.65358813 0.63183574\n",
            " 0.57653995 0.57816629 0.57613336 0.61943484 0.57979264 0.57288067\n",
            " 0.62573694 0.63102257 0.6361049  0.62776987 0.6269567  0.63590161\n",
            " 0.62594023 0.6391543  0.62614353 0.62268754 0.59457695 0.55596811\n",
            " 0.51288795 0.47937497 0.45303297 0.43315384 0.42058113 0.41295323\n",
            " 0.40764219 0.40310344 0.39839739 0.39302683 0.38690466 0.38022953\n",
            " 0.37334475 0.36662745 0.36040887 0.35492641 0.35030678 0.3465727\n",
            " 0.34366295 0.34139186 0.33973074 0.33850399]\n",
            "24 day output [[0.33755094]]\n",
            "25 day input [0.75462492 0.76316324 0.79670665 0.80585485 0.7889815  0.78003659\n",
            " 0.73978451 0.73002643 0.73490547 0.74872942 0.75991055 0.75462492\n",
            " 0.75401504 0.76174019 0.7737345  0.82008538 0.80585485 0.81154706\n",
            " 0.77434438 0.78633869 0.79284407 0.78328929 0.77109169 0.74385038\n",
            " 0.71193332 0.68733482 0.67818662 0.65257166 0.64301687 0.65643423\n",
            " 0.67656028 0.67371417 0.65114861 0.65521447 0.66761537 0.67838992\n",
            " 0.69993901 0.63122586 0.63508843 0.64098394 0.64545639 0.64118723\n",
            " 0.63854442 0.63081927 0.62472047 0.6330555  0.64728603 0.6574507\n",
            " 0.66761537 0.66720878 0.64159382 0.62776987 0.63651149 0.63630819\n",
            " 0.62980281 0.62817646 0.63813783 0.65358813 0.63183574 0.57653995\n",
            " 0.57816629 0.57613336 0.61943484 0.57979264 0.57288067 0.62573694\n",
            " 0.63102257 0.6361049  0.62776987 0.6269567  0.63590161 0.62594023\n",
            " 0.6391543  0.62614353 0.62268754 0.59457695 0.55596811 0.51288795\n",
            " 0.47937497 0.45303297 0.43315384 0.42058113 0.41295323 0.40764219\n",
            " 0.40310344 0.39839739 0.39302683 0.38690466 0.38022953 0.37334475\n",
            " 0.36662745 0.36040887 0.35492641 0.35030678 0.3465727  0.34366295\n",
            " 0.34139186 0.33973074 0.33850399 0.33755094]\n",
            "25 day output [[0.33671016]]\n",
            "26 day input [0.76316324 0.79670665 0.80585485 0.7889815  0.78003659 0.73978451\n",
            " 0.73002643 0.73490547 0.74872942 0.75991055 0.75462492 0.75401504\n",
            " 0.76174019 0.7737345  0.82008538 0.80585485 0.81154706 0.77434438\n",
            " 0.78633869 0.79284407 0.78328929 0.77109169 0.74385038 0.71193332\n",
            " 0.68733482 0.67818662 0.65257166 0.64301687 0.65643423 0.67656028\n",
            " 0.67371417 0.65114861 0.65521447 0.66761537 0.67838992 0.69993901\n",
            " 0.63122586 0.63508843 0.64098394 0.64545639 0.64118723 0.63854442\n",
            " 0.63081927 0.62472047 0.6330555  0.64728603 0.6574507  0.66761537\n",
            " 0.66720878 0.64159382 0.62776987 0.63651149 0.63630819 0.62980281\n",
            " 0.62817646 0.63813783 0.65358813 0.63183574 0.57653995 0.57816629\n",
            " 0.57613336 0.61943484 0.57979264 0.57288067 0.62573694 0.63102257\n",
            " 0.6361049  0.62776987 0.6269567  0.63590161 0.62594023 0.6391543\n",
            " 0.62614353 0.62268754 0.59457695 0.55596811 0.51288795 0.47937497\n",
            " 0.45303297 0.43315384 0.42058113 0.41295323 0.40764219 0.40310344\n",
            " 0.39839739 0.39302683 0.38690466 0.38022953 0.37334475 0.36662745\n",
            " 0.36040887 0.35492641 0.35030678 0.3465727  0.34366295 0.34139186\n",
            " 0.33973074 0.33850399 0.33755094 0.33671016]\n",
            "26 day output [[0.33596277]]\n",
            "27 day input [0.79670665 0.80585485 0.7889815  0.78003659 0.73978451 0.73002643\n",
            " 0.73490547 0.74872942 0.75991055 0.75462492 0.75401504 0.76174019\n",
            " 0.7737345  0.82008538 0.80585485 0.81154706 0.77434438 0.78633869\n",
            " 0.79284407 0.78328929 0.77109169 0.74385038 0.71193332 0.68733482\n",
            " 0.67818662 0.65257166 0.64301687 0.65643423 0.67656028 0.67371417\n",
            " 0.65114861 0.65521447 0.66761537 0.67838992 0.69993901 0.63122586\n",
            " 0.63508843 0.64098394 0.64545639 0.64118723 0.63854442 0.63081927\n",
            " 0.62472047 0.6330555  0.64728603 0.6574507  0.66761537 0.66720878\n",
            " 0.64159382 0.62776987 0.63651149 0.63630819 0.62980281 0.62817646\n",
            " 0.63813783 0.65358813 0.63183574 0.57653995 0.57816629 0.57613336\n",
            " 0.61943484 0.57979264 0.57288067 0.62573694 0.63102257 0.6361049\n",
            " 0.62776987 0.6269567  0.63590161 0.62594023 0.6391543  0.62614353\n",
            " 0.62268754 0.59457695 0.55596811 0.51288795 0.47937497 0.45303297\n",
            " 0.43315384 0.42058113 0.41295323 0.40764219 0.40310344 0.39839739\n",
            " 0.39302683 0.38690466 0.38022953 0.37334475 0.36662745 0.36040887\n",
            " 0.35492641 0.35030678 0.3465727  0.34366295 0.34139186 0.33973074\n",
            " 0.33850399 0.33755094 0.33671016 0.33596277]\n",
            "27 day output [[0.3352391]]\n",
            "[[0.5945769548416138], [0.5559681057929993], [0.5128879547119141], [0.4793749749660492], [0.4530329704284668], [0.43315383791923523], [0.4205811321735382], [0.4129532277584076], [0.4076421856880188], [0.40310344099998474], [0.39839738607406616], [0.39302682876586914], [0.38690465688705444], [0.38022953271865845], [0.373344749212265], [0.36662745475769043], [0.36040887236595154], [0.3549264073371887], [0.35030677914619446], [0.3465726971626282], [0.34366294741630554], [0.3413918614387512], [0.33973073959350586], [0.33850398659706116], [0.33755093812942505], [0.3367101550102234], [0.33596277236938477], [0.33523911237716675]]\n"
          ]
        }
      ]
    },
    {
      "cell_type": "code",
      "source": [
        "day_new = np.arange(1,101)\n",
        "day_pred = np.arange(101,129)"
      ],
      "metadata": {
        "id": "-8OrTTHC5G29"
      },
      "execution_count": null,
      "outputs": []
    },
    {
      "cell_type": "code",
      "source": [
        "day_new.shape"
      ],
      "metadata": {
        "id": "Xw5mslnm5LBf",
        "colab": {
          "base_uri": "https://localhost:8080/"
        },
        "outputId": "eba44bfd-8c6b-442e-9491-84483c5ad908"
      },
      "execution_count": null,
      "outputs": [
        {
          "output_type": "execute_result",
          "data": {
            "text/plain": [
              "(100,)"
            ]
          },
          "metadata": {},
          "execution_count": 76
        }
      ]
    },
    {
      "cell_type": "code",
      "source": [
        "day_pred.shape"
      ],
      "metadata": {
        "id": "_wOZPZVF5Mg_",
        "colab": {
          "base_uri": "https://localhost:8080/"
        },
        "outputId": "0c4528df-8be6-4973-e445-718dd84db338"
      },
      "execution_count": null,
      "outputs": [
        {
          "output_type": "execute_result",
          "data": {
            "text/plain": [
              "(28,)"
            ]
          },
          "metadata": {},
          "execution_count": 77
        }
      ]
    },
    {
      "cell_type": "code",
      "source": [
        "df3 = df_high.tolist()\n",
        "df3.extend(lst_output)\n",
        "\n",
        "len(df_high)"
      ],
      "metadata": {
        "id": "QHFZ90xQ5ORI",
        "colab": {
          "base_uri": "https://localhost:8080/"
        },
        "outputId": "46c3308c-4f04-4bd7-9d77-6448779759f9"
      },
      "execution_count": null,
      "outputs": [
        {
          "output_type": "execute_result",
          "data": {
            "text/plain": [
              "2035"
            ]
          },
          "metadata": {},
          "execution_count": 78
        }
      ]
    },
    {
      "cell_type": "code",
      "source": [
        "plt.plot(day_new, scaler.inverse_transform(df_high[1935:]))\n",
        "plt.plot(day_pred, scaler.inverse_transform(lst_output))"
      ],
      "metadata": {
        "id": "o_-mi27r5R_H",
        "colab": {
          "base_uri": "https://localhost:8080/",
          "height": 284
        },
        "outputId": "ba6365aa-1476-485e-bb89-baac3d3cdc6c"
      },
      "execution_count": null,
      "outputs": [
        {
          "output_type": "execute_result",
          "data": {
            "text/plain": [
              "[<matplotlib.lines.Line2D at 0x7f765149da90>]"
            ]
          },
          "metadata": {},
          "execution_count": 79
        },
        {
          "output_type": "display_data",
          "data": {
            "image/png": "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\n",
            "text/plain": [
              "<Figure size 432x288 with 1 Axes>"
            ]
          },
          "metadata": {
            "needs_background": "light"
          }
        }
      ]
    },
    {
      "cell_type": "code",
      "source": [
        "df3=df_high.tolist()\n",
        "df3.extend(lst_output)\n",
        "plt.plot(df3[2000:])"
      ],
      "metadata": {
        "id": "RxVmM6dP5Tyz",
        "colab": {
          "base_uri": "https://localhost:8080/",
          "height": 284
        },
        "outputId": "484f89dd-81c7-4e45-a9c2-03f2cd520013"
      },
      "execution_count": null,
      "outputs": [
        {
          "output_type": "execute_result",
          "data": {
            "text/plain": [
              "[<matplotlib.lines.Line2D at 0x7f764e98b490>]"
            ]
          },
          "metadata": {},
          "execution_count": 80
        },
        {
          "output_type": "display_data",
          "data": {
            "image/png": "iVBORw0KGgoAAAANSUhEUgAAAXoAAAD4CAYAAADiry33AAAABHNCSVQICAgIfAhkiAAAAAlwSFlzAAALEgAACxIB0t1+/AAAADh0RVh0U29mdHdhcmUAbWF0cGxvdGxpYiB2ZXJzaW9uMy4yLjIsIGh0dHA6Ly9tYXRwbG90bGliLm9yZy+WH4yJAAAgAElEQVR4nO3deXxU5dn/8c81k30nZCEbkEBYwg5hE3cLBhewbsXdtmprpdrWPq20ffRR+2tra90qWjdad1yruCLWHWUJsoY1C0sISzYSkkBCkvv3x0xwCIFMkknOzOR6v155Mec+5wzX0eE7J/e5z33EGINSSin/ZbO6AKWUUt1Lg14ppfycBr1SSvk5DXqllPJzGvRKKeXnAqwuoLW4uDgzcOBAq8tQSimfsmrVqjJjTHxb67wu6AcOHEhubq7VZSillE8RkR0nWqddN0op5ec06JVSys9p0CullJ/ToFdKKT+nQa+UUn5Og14ppfycBr1SSvk5rxtH76+W5pexemclYUEBRAQHEB4cQHiwnQkD+hAZEmh1eUopP6ZB3wO+Lijj2gUraGo+fu7/i8en8MDlYy2oSinVW2jQd7NdFXXc8uK3pMeF89pPpiICNfWN1NY38ch/t7Ekbx/1jU0EB9itLlUp5ae0j74b1dY3cuNzuTQ1G566Nps+4UHEhAWR2ieMof0iuXRCKgfrG/m6oNzqUpVSfkyDvpsYY/j1a2vZuu8g/7hyPOlx4cdtc8rgvkQGB/Dh+r0WVKiU6i006LvJo5/k88GGvcybOZwzhrQ5oRzBAXbOHp7Akk37aGxq7uEKlVK9hQZ9N1iycR9/X7KV749L4YbT0k+6bc6IflTUNrBie0UPVaeU6m006D1s676D/GLhakanRvPni0chIifd/oyh8YQE2li8QbtvlFLdQ4Pegw7UNXDjc7mEBgXwxDUTCAlsfyRNWFAAZwyJ58O8vTS3MfzSKg2NzdTUN1pdhlLKA9wKehHJEZEtIpIvInecYJvLRWSjiOSJyEsu7U0issb5s8hThXubxqZmfv7yakoOHOKJa8aTFB3q9r4zRyaxr7qeNcUHurHCjvnlK2s4/5Ev2xz7r5TyLe2OoxcROzAfmA4UAytFZJExZqPLNpnAPGCaMaZSRBJc3uKQMcbv7wi678PNfLmtjPsuGcWEAbEd2vesYQkE2oUPN+xlfP8+3VSh+1btqOS99XsAxx29p5/gYrJSyje4c0Y/Ccg3xhQaYxqAhcDsVtvcCMw3xlQCGGP2e7ZM7/bmt8U89WUR
